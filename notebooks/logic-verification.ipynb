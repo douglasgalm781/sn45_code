{
 "cells": [
  {
   "cell_type": "code",
   "execution_count": 1,
   "metadata": {},
   "outputs": [],
   "source": [
    "import os\n",
    "\n",
    "logic = {}\n",
    "test_submission_dir = \"example-submission\"\n",
    "\n",
    "# Read all files in test-submission directory\n",
    "for root, dirs, files in os.walk(test_submission_dir):\n",
    "    # Skip __pycache__ directories\n",
    "    if '__pycache__' in dirs:\n",
    "        dirs.remove('__pycache__')\n",
    "        \n",
    "    # Get relative path from test_submission_dir\n",
    "    rel_path = os.path.relpath(root, test_submission_dir)\n",
    "    \n",
    "    # Process all files in current directory\n",
    "    for filename in files:\n",
    "        # Skip __pycache__ files\n",
    "        if '__pycache__' in filename:\n",
    "            continue\n",
    "            \n",
    "        file_path = os.path.join(root, filename)\n",
    "        # Get the relative path for the logic dict key\n",
    "        if rel_path == '.':\n",
    "            logic_key = filename\n",
    "        else:\n",
    "            logic_key = os.path.join(rel_path, filename)\n",
    "            \n",
    "        with open(file_path, 'r', encoding='latin-1') as f:\n",
    "            logic[logic_key] = f.read()"
   ]
  },
  {
   "cell_type": "code",
   "execution_count": 2,
   "metadata": {},
   "outputs": [
    {
     "name": "stderr",
     "output_type": "stream",
     "text": [
      "/home/bskesse/miniconda3/envs/code311/lib/python3.11/site-packages/tqdm/auto.py:21: TqdmWarning: IProgress not found. Please update jupyter and ipywidgets. See https://ipywidgets.readthedocs.io/en/stable/user_install.html\n",
      "  from .autonotebook import tqdm as notebook_tqdm\n"
     ]
    },
    {
     "data": {
      "text/plain": [
       "(True, 'Logic is valid')"
      ]
     },
     "execution_count": 2,
     "metadata": {},
     "output_type": "execute_result"
    }
   ],
   "source": [
    "from coding.finetune.pipeline import verify_logic\n",
    "\n",
    "pass_logic, pass_msg = verify_logic(logic)\n",
    "\n",
    "pass_logic, pass_msg"
   ]
  }
 ],
 "metadata": {
  "kernelspec": {
   "display_name": "langcode311",
   "language": "python",
   "name": "python3"
  },
  "language_info": {
   "codemirror_mode": {
    "name": "ipython",
    "version": 3
   },
   "file_extension": ".py",
   "mimetype": "text/x-python",
   "name": "python",
   "nbconvert_exporter": "python",
   "pygments_lexer": "ipython3",
   "version": "3.11.11"
  }
 },
 "nbformat": 4,
 "nbformat_minor": 2
}
