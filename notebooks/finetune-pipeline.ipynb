{
 "cells": [
  {
   "cell_type": "code",
   "execution_count": 15,
   "metadata": {},
   "outputs": [
    {
     "name": "stdout",
     "output_type": "stream",
     "text": [
      "The autoreload extension is already loaded. To reload it, use:\n",
      "  %reload_ext autoreload\n"
     ]
    }
   ],
   "source": [
    "%load_ext autoreload\n",
    "%autoreload 2\n"
   ]
  },
  {
   "cell_type": "code",
   "execution_count": 16,
   "metadata": {},
   "outputs": [
    {
     "data": {
      "text/plain": [
       "True"
      ]
     },
     "execution_count": 16,
     "metadata": {},
     "output_type": "execute_result"
    }
   ],
   "source": [
    "import os\n",
    "os.environ[\"CUDA_VISIBLE_DEVICES\"] = \"1\"\n",
    "os.environ[\"LLM_AUTH_KEY\"] = \"TEST\"\n",
    "# load env from .env file in ../\n",
    "from dotenv import load_dotenv\n",
    "load_dotenv(dotenv_path=\"../.env\")\n"
   ]
  },
  {
   "cell_type": "code",
   "execution_count": 17,
   "metadata": {},
   "outputs": [],
   "source": [
    "# os.remove(\"tasks_1.pkl\")"
   ]
  },
  {
   "cell_type": "code",
   "execution_count": 18,
   "metadata": {},
   "outputs": [],
   "source": [
    "# from coding.finetune.pipeline import FinetunePipeline\n",
    "# from coding.rewards.codesim import CodeSimModel\n",
    "# from coding.finetune.llm.manager import LLMManager\n",
    "# config = type('Config', (), {'finetune_test_size': 1})()\n",
    "# code_sim_model = CodeSimModel()\n",
    "\n",
    "# pipeline = FinetunePipeline(config=config, code_sim_model=code_sim_model)\n",
    "\n",
    "# pipeline.load_tasks()\n",
    "# print(\"Gotten tasks\")\n",
    "# # llm_manager = LLMManager()"
   ]
  },
  {
   "cell_type": "code",
   "execution_count": 19,
   "metadata": {},
   "outputs": [],
   "source": [
    "from coding.tasks.swe import SWEBenchTask\n",
    "from coding.schemas.context import Context\n",
    "task = SWEBenchTask(llm=None,context=Context(\n",
    "    extras={\"base_commit\": \"336043183333c8078bbd035f5058ef91c5423c30\", \"pull_number\": 77},\n",
    "    title=\"dragnet-org/dragnet\",\n",
    "    content=\"diff --git a/requirements.txt b/requirements.txt\\nindex 15a6934..65d3dcf 100644\\n--- a/requirements.txt\\n+++ b/requirements.txt\\n@@ -2,7 +2,7 @@ nose\\n coverage\\n Cython>=0.21.1\\n lxml\\n-scikit-learn>=0.15.2,<=0.19.2\\n+scikit-learn>=0.15.2,<=0.20\\n numpy\\n scipy\\n ftfy>=4.1.0,<5.0.0\\ndiff --git a/setup.py b/setup.py\\nindex ebed646..366d298 100644\\n--- a/setup.py\\n+++ b/setup.py\\n@@ -98,7 +98,7 @@ def find_libxml2_include():\\n     install_requires=[\\n         'Cython>=0.21.1',\\n         'lxml',\\n-        'scikit-learn>=0.15.2,<=0.19.2',\\n+        'scikit-learn>=0.15.2,<=0.20',\\n         'numpy',\\n         'scipy',\\n         'ftfy>=4.1.0,<5.0.0'\\n\",\n",
    "    topic=\"bump scikit-learn version ceiling to 0.20.1?\\nHi! `dragnet` currently requires `scikit-learn<=0.19.2`, which prevents users from developing alongside the final Py2/3 compatible release of 0.20.1 (see [here](http://scikit-learn.org/dev/whats_new.html#version-0-20-0)). Would you be able to bump the version ceiling and publish a new release? Assuming no version-driven incompatibilities, I _think_ this shouldn't be too much work; you don't have to train new, version-specific models, right?\\nbump scikit-learn version ceiling to 0.20.1?\\nHi! `dragnet` currently requires `scikit-learn<=0.19.2`, which prevents users from developing alongside the final Py2/3 compatible release of 0.20.1 (see [here](http://scikit-learn.org/dev/whats_new.html#version-0-20-0)). Would you be able to bump the version ceiling and publish a new release? Assuming no version-driven incompatibilities, I _think_ this shouldn't be too much work; you don't have to train new, version-specific models, right?\\n\",\n",
    "))"
   ]
  },
  {
   "cell_type": "code",
   "execution_count": 114,
   "metadata": {},
   "outputs": [],
   "source": [
    "import os\n",
    "\n",
    "logic = {}\n",
    "test_submission_dir = \"example-submission\"\n",
    "\n",
    "# Read all files in test-submission directory\n",
    "for root, dirs, files in os.walk(test_submission_dir):\n",
    "    # Skip __pycache__ directories\n",
    "    if '__pycache__' in dirs:\n",
    "        dirs.remove('__pycache__')\n",
    "        \n",
    "    # Get relative path from test_submission_dir\n",
    "    rel_path = os.path.relpath(root, test_submission_dir)\n",
    "    \n",
    "    # Process all files in current directory\n",
    "    for filename in files:\n",
    "        # Skip __pycache__ files\n",
    "        if '__pycache__' in filename:\n",
    "            continue\n",
    "            \n",
    "        file_path = os.path.join(root, filename)\n",
    "        # Get the relative path for the logic dict key\n",
    "        if rel_path == '.':\n",
    "            logic_key = filename\n",
    "        else:\n",
    "            logic_key = os.path.join(rel_path, filename)\n",
    "            \n",
    "        with open(file_path, 'r', encoding='latin-1') as f:\n",
    "            logic[logic_key] = f.read()"
   ]
  },
  {
   "cell_type": "code",
   "execution_count": 115,
   "metadata": {},
   "outputs": [],
   "source": [
    "from coding.schemas.tracking import TrackingInfo\n",
    "\n",
    "tracking_info = TrackingInfo(\n",
    "    logic=logic,\n",
    "    block=0,\n",
    "    hotkey=\"test\",\n",
    "    uid=0,\n",
    "    results=[]\n",
    ")\n"
   ]
  },
  {
   "cell_type": "code",
   "execution_count": 116,
   "metadata": {},
   "outputs": [],
   "source": [
    "# Create repo_files dict from task.repo.path\n",
    "repo_files = {}\n",
    "\n",
    "# Walk through all files in repo path\n",
    "for root, dirs, files in os.walk(task.repo.path):\n",
    "    # Skip __pycache__ directories\n",
    "    if '__pycache__' in dirs:\n",
    "        dirs.remove('__pycache__')\n",
    "        \n",
    "    # Get relative path from repo root\n",
    "    rel_path = os.path.relpath(root, task.repo.path)\n",
    "    \n",
    "    # Process all files\n",
    "    for filename in files:\n",
    "        # Skip __pycache__ files\n",
    "        if '__pycache__' in filename:\n",
    "            continue\n",
    "            \n",
    "        file_path = os.path.join(root, filename)\n",
    "        \n",
    "        # Get the relative path for the repo_files dict key\n",
    "        if rel_path == '.':\n",
    "            repo_key = filename\n",
    "        else:\n",
    "            repo_key = os.path.join(rel_path, filename)\n",
    "            \n",
    "        # Read file contents\n",
    "        with open(file_path, 'r', encoding='latin-1') as f:\n",
    "            repo_files[repo_key] = f.read()\n"
   ]
  },
  {
   "cell_type": "code",
   "execution_count": 117,
   "metadata": {},
   "outputs": [
    {
     "data": {
      "text/plain": [
       "(False, 'Disallowed module: swebase')"
      ]
     },
     "execution_count": 117,
     "metadata": {},
     "output_type": "execute_result"
    }
   ],
   "source": [
    "from coding.finetune.pipeline import verify_logic\n",
    "\n",
    "pass_logic, pass_msg = verify_logic(tracking_info.logic)\n",
    "\n",
    "pass_logic, pass_msg"
   ]
  },
  {
   "cell_type": "code",
   "execution_count": 118,
   "metadata": {},
   "outputs": [
    {
     "name": "stdout",
     "output_type": "stream",
     "text": [
      "Wrote /tmp/tmpp7mqi7b3/fix.py\n",
      "Wrote /tmp/tmpp7mqi7b3/search.py\n",
      "Wrote /tmp/tmpp7mqi7b3/submission.py\n",
      "Wrote /tmp/tmpp7mqi7b3/diff.py\n",
      "Wrote /tmp/tmpp7mqi7b3/files.py\n",
      "Wrote repo file /tmp/tmpp7mqi7b3/repo/.travis.yml\n",
      "Wrote repo file /tmp/tmpp7mqi7b3/repo/MANIFEST.IN\n",
      "Wrote repo file /tmp/tmpp7mqi7b3/repo/setup.py\n",
      "Wrote repo file /tmp/tmpp7mqi7b3/repo/requirements.txt\n",
      "Wrote repo file /tmp/tmpp7mqi7b3/repo/.gitignore\n",
      "Wrote repo file /tmp/tmpp7mqi7b3/repo/README.md\n",
      "Wrote repo file /tmp/tmpp7mqi7b3/repo/Vagrantfile\n",
      "Wrote repo file /tmp/tmpp7mqi7b3/repo/provision.sh\n",
      "Wrote repo file /tmp/tmpp7mqi7b3/repo/Makefile\n",
      "Wrote repo file /tmp/tmpp7mqi7b3/repo/LICENSE\n",
      "Wrote repo file /tmp/tmpp7mqi7b3/repo/dragnet_www2013.pdf\n",
      "Wrote repo file /tmp/tmpp7mqi7b3/repo/.git/index\n",
      "Wrote repo file /tmp/tmpp7mqi7b3/repo/.git/HEAD\n",
      "Wrote repo file /tmp/tmpp7mqi7b3/repo/.git/FETCH_HEAD\n",
      "Wrote repo file /tmp/tmpp7mqi7b3/repo/.git/description\n",
      "Wrote repo file /tmp/tmpp7mqi7b3/repo/.git/config\n",
      "Wrote repo file /tmp/tmpp7mqi7b3/repo/.git/packed-refs\n",
      "Wrote repo file /tmp/tmpp7mqi7b3/repo/.git/shallow\n",
      "Wrote repo file /tmp/tmpp7mqi7b3/repo/.git/refs/heads/master\n",
      "Wrote repo file /tmp/tmpp7mqi7b3/repo/.git/refs/remotes/origin/HEAD\n",
      "Wrote repo file /tmp/tmpp7mqi7b3/repo/.git/objects/4e/f0d4908dd51a22823e21f0608f3a5ac44eae7d\n"
     ]
    },
    {
     "name": "stdout",
     "output_type": "stream",
     "text": [
      "Wrote repo file /tmp/tmpp7mqi7b3/repo/.git/objects/33/6043183333c8078bbd035f5058ef91c5423c30\n",
      "Wrote repo file /tmp/tmpp7mqi7b3/repo/.git/objects/31/6edaa7fde07273a2be6ad5a8731243a54ed277\n",
      "Wrote repo file /tmp/tmpp7mqi7b3/repo/.git/objects/pack/pack-8ea5a795892cf3afa21e8af4ab1d3d606e8bbe10.pack\n",
      "Wrote repo file /tmp/tmpp7mqi7b3/repo/.git/objects/pack/pack-8ea5a795892cf3afa21e8af4ab1d3d606e8bbe10.idx\n",
      "Wrote repo file /tmp/tmpp7mqi7b3/repo/.git/objects/3e/7901cbc936dc0614817cb313c57cb03f170f46\n",
      "Wrote repo file /tmp/tmpp7mqi7b3/repo/.git/objects/c5/9104502278ccce4f137712e9c397ebdeab4e25\n",
      "Wrote repo file /tmp/tmpp7mqi7b3/repo/.git/objects/9c/e832118b3b405c4d8d88514ca90efc4b0f4dae\n",
      "Wrote repo file /tmp/tmpp7mqi7b3/repo/.git/objects/15/a69343276da9e8bf4ba7b4aec4d4f43e05d812\n",
      "Wrote repo file /tmp/tmpp7mqi7b3/repo/.git/objects/82/076056ec0fd770c0fd50542fb52f052dd374f0\n",
      "Wrote repo file /tmp/tmpp7mqi7b3/repo/.git/objects/47/31e28d0759abf93a575fb51391b8b0768fca1e\n",
      "Wrote repo file /tmp/tmpp7mqi7b3/repo/.git/objects/eb/ed64639e30e4be1006dfdf9b195fcc6cd3f4d5\n",
      "Wrote repo file /tmp/tmpp7mqi7b3/repo/.git/objects/78/563b999d0b693529d71f5e836e5b347dade2df\n",
      "Wrote repo file /tmp/tmpp7mqi7b3/repo/.git/objects/b4/17ac86a8d8d927b1ac7f151a903d83b9d86b24\n",
      "Wrote repo file /tmp/tmpp7mqi7b3/repo/.git/objects/55/7f7eb795316a7a2e75a761ff4aca15270d3be3\n",
      "Wrote repo file /tmp/tmpp7mqi7b3/repo/.git/objects/77/768c0eedb9e9a46078d17544593fc75522ca22\n",
      "Wrote repo file /tmp/tmpp7mqi7b3/repo/.git/objects/c7/1e4487297db5f1fb053408dc02bfe1982ef2ce\n",
      "Wrote repo file /tmp/tmpp7mqi7b3/repo/.git/objects/63/85162e371d4ed7484893f7597e378ac3dc669d\n",
      "Wrote repo file /tmp/tmpp7mqi7b3/repo/.git/objects/e3/5c8469e3d1c7f037c8b26dabce95c102850551\n",
      "Wrote repo file /tmp/tmpp7mqi7b3/repo/.git/hooks/prepare-commit-msg.sample\n",
      "Wrote repo file /tmp/tmpp7mqi7b3/repo/.git/hooks/update.sample\n",
      "Wrote repo file /tmp/tmpp7mqi7b3/repo/.git/hooks/pre-applypatch.sample\n",
      "Wrote repo file /tmp/tmpp7mqi7b3/repo/.git/hooks/pre-receive.sample\n",
      "Wrote repo file /tmp/tmpp7mqi7b3/repo/.git/hooks/pre-commit.sample\n",
      "Wrote repo file /tmp/tmpp7mqi7b3/repo/.git/hooks/applypatch-msg.sample\n",
      "Wrote repo file /tmp/tmpp7mqi7b3/repo/.git/hooks/push-to-checkout.sample\n",
      "Wrote repo file /tmp/tmpp7mqi7b3/repo/.git/hooks/commit-msg.sample\n",
      "Wrote repo file /tmp/tmpp7mqi7b3/repo/.git/hooks/fsmonitor-watchman.sample\n",
      "Wrote repo file /tmp/tmpp7mqi7b3/repo/.git/hooks/pre-merge-commit.sample\n",
      "Wrote repo file /tmp/tmpp7mqi7b3/repo/.git/hooks/pre-push.sample\n",
      "Wrote repo file /tmp/tmpp7mqi7b3/repo/.git/hooks/post-update.sample\n",
      "Wrote repo file /tmp/tmpp7mqi7b3/repo/.git/hooks/pre-rebase.sample\n",
      "Wrote repo file /tmp/tmpp7mqi7b3/repo/.git/info/exclude\n",
      "Wrote repo file /tmp/tmpp7mqi7b3/repo/.git/logs/HEAD\n",
      "Wrote repo file /tmp/tmpp7mqi7b3/repo/.git/logs/refs/heads/master\n",
      "Wrote repo file /tmp/tmpp7mqi7b3/repo/.git/logs/refs/remotes/origin/HEAD\n",
      "Wrote repo file /tmp/tmpp7mqi7b3/repo/env/env_dragnet.yml\n",
      "Wrote repo file /tmp/tmpp7mqi7b3/repo/dragnet/blocks.pyx\n",
      "Wrote repo file /tmp/tmpp7mqi7b3/repo/dragnet/compat.py\n",
      "Wrote repo file /tmp/tmpp7mqi7b3/repo/dragnet/lcs.pyx\n",
      "Wrote repo file /tmp/tmpp7mqi7b3/repo/dragnet/model_training.py\n",
      "Wrote repo file /tmp/tmpp7mqi7b3/repo/dragnet/data_processing.py\n",
      "Wrote repo file /tmp/tmpp7mqi7b3/repo/dragnet/__init__.py\n",
      "Wrote repo file /tmp/tmpp7mqi7b3/repo/dragnet/extractor.py\n",
      "Wrote repo file /tmp/tmpp7mqi7b3/repo/dragnet/util.py\n",
      "Wrote repo file /tmp/tmpp7mqi7b3/repo/dragnet/pickled_models/sklearn_0.18.0/kohlschuetter_weninger_readability_content_model.pickle.gz\n",
      "Wrote repo file /tmp/tmpp7mqi7b3/repo/dragnet/pickled_models/sklearn_0.18.0/kohlschuetter_weninger_readability_content_comments_model.pickle.gz\n",
      "Wrote repo file /tmp/tmpp7mqi7b3/repo/dragnet/pickled_models/py2_sklearn_0.18.0/kohlschuetter_readability_weninger_comments_block_errors.txt\n",
      "Wrote repo file /tmp/tmpp7mqi7b3/repo/dragnet/pickled_models/py2_sklearn_0.18.0/kohlschuetter_readability_weninger_content_model.pkl.gz\n",
      "Wrote repo file /tmp/tmpp7mqi7b3/repo/dragnet/pickled_models/py2_sklearn_0.18.0/kohlschuetter_readability_weninger_content_block_errors.txt\n",
      "Wrote repo file /tmp/tmpp7mqi7b3/repo/dragnet/pickled_models/py2_sklearn_0.18.0/kohlschuetter_readability_weninger_comments_model.pkl.gz\n",
      "Wrote repo file /tmp/tmpp7mqi7b3/repo/dragnet/pickled_models/py2_sklearn_0.18.0/kohlschuetter_readability_weninger_comments_content_block_errors.txt\n",
      "Wrote repo file /tmp/tmpp7mqi7b3/repo/dragnet/pickled_models/py2_sklearn_0.18.0/kohlschuetter_readability_weninger_comments_content_model.pkl.gz\n",
      "Wrote repo file /tmp/tmpp7mqi7b3/repo/dragnet/pickled_models/py3_sklearn_0.15.2_0.17.1/kohlschuetter_readability_weninger_comments_block_errors.txt\n",
      "Wrote repo file /tmp/tmpp7mqi7b3/repo/dragnet/pickled_models/py3_sklearn_0.15.2_0.17.1/kohlschuetter_readability_weninger_content_model.pkl.gz\n",
      "Wrote repo file /tmp/tmpp7mqi7b3/repo/dragnet/pickled_models/py3_sklearn_0.15.2_0.17.1/kohlschuetter_readability_weninger_content_block_errors.txt\n",
      "Wrote repo file /tmp/tmpp7mqi7b3/repo/dragnet/pickled_models/py3_sklearn_0.15.2_0.17.1/kohlschuetter_readability_weninger_comments_model.pkl.gz\n",
      "Wrote repo file /tmp/tmpp7mqi7b3/repo/dragnet/pickled_models/py3_sklearn_0.15.2_0.17.1/kohlschuetter_readability_weninger_comments_content_block_errors.txt\n",
      "Wrote repo file /tmp/tmpp7mqi7b3/repo/dragnet/pickled_models/py3_sklearn_0.15.2_0.17.1/kohlschuetter_readability_weninger_comments_content_model.pkl.gz\n",
      "Wrote repo file /tmp/tmpp7mqi7b3/repo/dragnet/pickled_models/py3_sklearn_0.18.0/kohlschuetter_readability_weninger_comments_block_errors.txt\n",
      "Wrote repo file /tmp/tmpp7mqi7b3/repo/dragnet/pickled_models/py3_sklearn_0.18.0/kohlschuetter_readability_weninger_content_model.pkl.gz\n",
      "Wrote repo file /tmp/tmpp7mqi7b3/repo/dragnet/pickled_models/py3_sklearn_0.18.0/kohlschuetter_readability_weninger_content_block_errors.txt\n",
      "Wrote repo file /tmp/tmpp7mqi7b3/repo/dragnet/pickled_models/py3_sklearn_0.18.0/kohlschuetter_readability_weninger_comments_model.pkl.gz\n",
      "Wrote repo file /tmp/tmpp7mqi7b3/repo/dragnet/pickled_models/py3_sklearn_0.18.0/kohlschuetter_readability_weninger_comments_content_block_errors.txt\n",
      "Wrote repo file /tmp/tmpp7mqi7b3/repo/dragnet/pickled_models/py3_sklearn_0.18.0/kohlschuetter_readability_weninger_comments_content_model.pkl.gz\n",
      "Wrote repo file /tmp/tmpp7mqi7b3/repo/dragnet/pickled_models/sklearn_0.15.2_0.17.1/kohlschuetter_weninger_readability_content_model.pickle.gz\n",
      "Wrote repo file /tmp/tmpp7mqi7b3/repo/dragnet/pickled_models/sklearn_0.15.2_0.17.1/kohlschuetter_weninger_readability_content_comments_model.pickle.gz\n",
      "Wrote repo file /tmp/tmpp7mqi7b3/repo/dragnet/pickled_models/py2_sklearn_0.15.2_0.17.1/kohlschuetter_readability_weninger_comments_block_errors.txt\n",
      "Wrote repo file /tmp/tmpp7mqi7b3/repo/dragnet/pickled_models/py2_sklearn_0.15.2_0.17.1/kohlschuetter_readability_weninger_content_model.pkl.gz\n",
      "Wrote repo file /tmp/tmpp7mqi7b3/repo/dragnet/pickled_models/py2_sklearn_0.15.2_0.17.1/kohlschuetter_readability_weninger_content_block_errors.txt\n",
      "Wrote repo file /tmp/tmpp7mqi7b3/repo/dragnet/pickled_models/py2_sklearn_0.15.2_0.17.1/kohlschuetter_readability_weninger_comments_model.pkl.gz\n",
      "Wrote repo file /tmp/tmpp7mqi7b3/repo/dragnet/pickled_models/py2_sklearn_0.15.2_0.17.1/kohlschuetter_readability_weninger_comments_content_block_errors.txt\n",
      "Wrote repo file /tmp/tmpp7mqi7b3/repo/dragnet/pickled_models/py2_sklearn_0.15.2_0.17.1/kohlschuetter_readability_weninger_comments_content_model.pkl.gz\n",
      "Wrote repo file /tmp/tmpp7mqi7b3/repo/dragnet/features/readability.py\n",
      "Wrote repo file /tmp/tmpp7mqi7b3/repo/dragnet/features/_readability.pyx\n",
      "Wrote repo file /tmp/tmpp7mqi7b3/repo/dragnet/features/weninger.py\n",
      "Wrote repo file /tmp/tmpp7mqi7b3/repo/dragnet/features/_weninger.pyx\n",
      "Wrote repo file /tmp/tmpp7mqi7b3/repo/dragnet/features/css.py\n",
      "Wrote repo file /tmp/tmpp7mqi7b3/repo/dragnet/features/_kohlschuetter.pyx\n",
      "Wrote repo file /tmp/tmpp7mqi7b3/repo/dragnet/features/standardized.py\n",
      "Wrote repo file /tmp/tmpp7mqi7b3/repo/dragnet/features/__init__.py\n",
      "Wrote repo file /tmp/tmpp7mqi7b3/repo/dragnet/features/_readability.cc\n",
      "Wrote repo file /tmp/tmpp7mqi7b3/repo/dragnet/features/kohlschuetter.py\n",
      "Wrote repo file /tmp/tmpp7mqi7b3/repo/test/test_blocks.py\n",
      "Wrote repo file /tmp/tmpp7mqi7b3/repo/test/test_kohlschuetter.py\n",
      "Wrote repo file /tmp/tmpp7mqi7b3/repo/test/test_models.py\n",
      "Wrote repo file /tmp/tmpp7mqi7b3/repo/test/test_data_processing.py\n",
      "Wrote repo file /tmp/tmpp7mqi7b3/repo/test/test_readability.py\n",
      "Wrote repo file /tmp/tmpp7mqi7b3/repo/test/test_util.py\n",
      "Wrote repo file /tmp/tmpp7mqi7b3/repo/test/test_lcs.py\n",
      "Wrote repo file /tmp/tmpp7mqi7b3/repo/test/test_weninger.py\n",
      "Wrote repo file /tmp/tmpp7mqi7b3/repo/test/test_extractor.py\n",
      "Wrote repo file /tmp/tmpp7mqi7b3/repo/test/datafiles/models_content.json\n",
      "Wrote repo file /tmp/tmpp7mqi7b3/repo/test/datafiles/models_testing.html\n",
      "Wrote repo file /tmp/tmpp7mqi7b3/repo/test/datafiles/readability_features.json\n",
      "Wrote repo file /tmp/tmpp7mqi7b3/repo/test/datafiles/models_content_mod.json\n",
      "Wrote repo file /tmp/tmpp7mqi7b3/repo/test/datafiles/block_corrected/blank_label.block_corrected.txt\n",
      "Wrote repo file /tmp/tmpp7mqi7b3/repo/test/datafiles/block_corrected/page_comments_expected.block_corrected.txt\n",
      "Wrote repo file /tmp/tmpp7mqi7b3/repo/test/datafiles/block_corrected/page_no_comments_expected.block_corrected.txt\n",
      "Wrote repo file /tmp/tmpp7mqi7b3/repo/test/datafiles/Corrected/utf-8.html.corrected.txt\n",
      "Wrote repo file /tmp/tmpp7mqi7b3/repo/test/datafiles/Corrected/iso-8859-1.html.corrected.txt\n",
      "Wrote repo file /tmp/tmpp7mqi7b3/repo/test/datafiles/Corrected/utf-16.html.corrected.txt\n",
      "Wrote repo file /tmp/tmpp7mqi7b3/repo/test/datafiles/Corrected/utf-8_chinese.html.corrected.txt\n",
      "Wrote repo file /tmp/tmpp7mqi7b3/repo/test/datafiles/Corrected/blank_label.corrected.txt\n",
      "Wrote repo file /tmp/tmpp7mqi7b3/repo/test/datafiles/Corrected/page_comments.html.corrected.txt\n",
      "Wrote repo file /tmp/tmpp7mqi7b3/repo/test/datafiles/Corrected/page_no_comments.html.corrected.txt\n",
      "Wrote repo file /tmp/tmpp7mqi7b3/repo/test/datafiles/Corrected/ascii.html.corrected.txt\n",
      "Wrote repo file /tmp/tmpp7mqi7b3/repo/test/datafiles/HTML/page_comments.html\n",
      "Wrote repo file /tmp/tmpp7mqi7b3/repo/test/datafiles/HTML/blank_label.html\n",
      "Wrote repo file /tmp/tmpp7mqi7b3/repo/test/datafiles/HTML/page_no_comments.html\n",
      "Wrote repo file /tmp/tmpp7mqi7b3/repo/test/datafiles/HTML/page_for_testing.html\n",
      "Wrote repo file /tmp/tmpp7mqi7b3/repo/scripts/train_and_test_models.py\n"
     ]
    },
    {
     "data": {
      "text/plain": [
       "'sha256:56808218b7922b26e120e4c5761b9c3d3d6d313a2062e9ea35f2ea7c9fb8321c'"
      ]
     },
     "execution_count": 118,
     "metadata": {},
     "output_type": "execute_result"
    }
   ],
   "source": [
    "from coding.finetune.dockerutil import build_docker_container, run_docker_container\n",
    "\n",
    "build_docker_container(tracking_info.logic, tracking_info.hotkey, repo_files=repo_files)"
   ]
  },
  {
   "cell_type": "code",
   "execution_count": 119,
   "metadata": {},
   "outputs": [
    {
     "data": {
      "text/plain": [
       "'swe-logic-test-1'"
      ]
     },
     "execution_count": 119,
     "metadata": {},
     "output_type": "execute_result"
    }
   ],
   "source": [
    "f\"swe-logic-{str(tracking_info.hotkey)}-1\""
   ]
  },
  {
   "cell_type": "code",
   "execution_count": 120,
   "metadata": {},
   "outputs": [
    {
     "data": {
      "text/plain": [
       "b''"
      ]
     },
     "execution_count": 120,
     "metadata": {},
     "output_type": "execute_result"
    }
   ],
   "source": [
    "# task = pipeline.tasks[0]\n",
    "container = run_docker_container(\n",
    "        f\"swe-logic-{str(tracking_info.hotkey)}-1\",\n",
    "        task.repo,\n",
    "        tracking_info.hotkey,\n",
    "    )\n",
    "# print the container logs\n",
    "container.logs()\n"
   ]
  },
  {
   "cell_type": "code",
   "execution_count": 121,
   "metadata": {},
   "outputs": [
    {
     "data": {
      "text/plain": [
       "{'result': {'edits': [{'file_name': 'setup.py',\n",
       "    'line_number': 101,\n",
       "    'line_content': \"       'scikit-learn>=0.15.2,<=0.19.2',\",\n",
       "    'new_line_content': \"       'scikit-learn>=0.15.2,<=0.20.1',\"}]}}"
      ]
     },
     "execution_count": 121,
     "metadata": {},
     "output_type": "execute_result"
    }
   ],
   "source": [
    "import time \n",
    "time.sleep(4)  \n",
    "import requests\n",
    "response = requests.post(\n",
    "            f\"http://{os.environ['DOCKER_HOST_IP']}:3000/call\",\n",
    "            json={\n",
    "                \"repo_location\": \"/app/repo\",\n",
    "                \"issue_description\": task.query,\n",
    "            },\n",
    "            timeout=360,\n",
    "        )\n",
    "response.json()"
   ]
  },
  {
   "cell_type": "code",
   "execution_count": 122,
   "metadata": {},
   "outputs": [
    {
     "data": {
      "text/plain": [
       "[PatchChunk(file_name='setup.py', start_index=101, end_index=101, content=\"       'scikit-learn>=0.15.2,<=0.19.2',\", new_content=\"       'scikit-learn>=0.15.2,<=0.20.1',\")]"
      ]
     },
     "execution_count": 122,
     "metadata": {},
     "output_type": "execute_result"
    }
   ],
   "source": [
    "from coding.schemas import Patch\n",
    "from coding.tasks.swe import chunk_patch\n",
    "chunk_patch(Patch(**response.json()[\"result\"]))"
   ]
  },
  {
   "cell_type": "code",
   "execution_count": 123,
   "metadata": {},
   "outputs": [
    {
     "name": "stdout",
     "output_type": "stream",
     "text": [
      "valid patch edits=[Edit(file_name='requirements.txt', line_number=5, line_content='scikit-learn>=0.15.2,<=0.19.2', new_line_content=''), Edit(file_name='requirements.txt', line_number=5, line_content='', new_line_content='scikit-learn>=0.15.2,<=0.20'), Edit(file_name='setup.py', line_number=101, line_content=\"'scikit-learn>=0.15.2,<=0.19.2',\", new_line_content=''), Edit(file_name='setup.py', line_number=101, line_content='', new_line_content=\"'scikit-learn>=0.15.2,<=0.20',\")]\n",
      "percent lines in miner 0.25\n",
      "valid chunks [PatchChunk(file_name='requirements.txt', start_index=5, end_index=5, content='scikit-learn>=0.15.2,<=0.19.2', new_content='scikit-learn>=0.15.2,<=0.20'), PatchChunk(file_name='setup.py', start_index=101, end_index=101, content=\"'scikit-learn>=0.15.2,<=0.19.2',\", new_content=\"'scikit-learn>=0.15.2,<=0.20',\")]\n",
      "old miner chunk content        'scikit-learn>=0.15.2,<=0.19.2',\n",
      "old valid chunk content 'scikit-learn>=0.15.2,<=0.19.2',\n",
      "new miner chunk content        'scikit-learn>=0.15.2,<=0.20.1',\n",
      "new valid chunk content 'scikit-learn>=0.15.2,<=0.20',\n",
      "chunk percent 0.5\n"
     ]
    },
    {
     "data": {
      "text/plain": [
       "0.375"
      ]
     },
     "execution_count": 123,
     "metadata": {},
     "output_type": "execute_result"
    }
   ],
   "source": [
    "from coding.schemas import Patch\n",
    "patch = Patch(**response.json()[\"result\"])\n",
    "score = task.score(patch, 100)\n",
    "score"
   ]
  },
  {
   "cell_type": "code",
   "execution_count": 124,
   "metadata": {},
   "outputs": [
    {
     "data": {
      "text/html": [
       "<pre style=\"white-space:pre;overflow-x:auto;line-height:normal;font-family:Menlo,'DejaVu Sans Mono',consolas,'Courier New',monospace\"><span style=\"color: #800000; text-decoration-color: #800000\">╭─────────────────────────────── </span><span style=\"color: #800000; text-decoration-color: #800000; font-weight: bold\">Traceback </span><span style=\"color: #bf7f7f; text-decoration-color: #bf7f7f; font-weight: bold\">(most recent call last)</span><span style=\"color: #800000; text-decoration-color: #800000\"> ────────────────────────────────╮</span>\n",
       "<span style=\"color: #800000; text-decoration-color: #800000\">│</span> in <span style=\"color: #00ff00; text-decoration-color: #00ff00\">&lt;module&gt;</span>:<span style=\"color: #0000ff; text-decoration-color: #0000ff\">1</span>                                                                                    <span style=\"color: #800000; text-decoration-color: #800000\">│</span>\n",
       "<span style=\"color: #800000; text-decoration-color: #800000\">│</span>                                                                                                  <span style=\"color: #800000; text-decoration-color: #800000\">│</span>\n",
       "<span style=\"color: #800000; text-decoration-color: #800000\">│</span> <span style=\"color: #800000; text-decoration-color: #800000\">❱ </span>1 <span style=\"font-weight: bold; text-decoration: underline\">llm_manager</span>.get_count()                                                                      <span style=\"color: #800000; text-decoration-color: #800000\">│</span>\n",
       "<span style=\"color: #800000; text-decoration-color: #800000\">│</span>   <span style=\"color: #7f7f7f; text-decoration-color: #7f7f7f\">2 </span>                                                                                             <span style=\"color: #800000; text-decoration-color: #800000\">│</span>\n",
       "<span style=\"color: #800000; text-decoration-color: #800000\">╰──────────────────────────────────────────────────────────────────────────────────────────────────╯</span>\n",
       "<span style=\"color: #ff0000; text-decoration-color: #ff0000; font-weight: bold\">NameError: </span>name <span style=\"color: #008000; text-decoration-color: #008000\">'llm_manager'</span> is not defined\n",
       "</pre>\n"
      ],
      "text/plain": [
       "\u001b[31m╭─\u001b[0m\u001b[31m──────────────────────────────\u001b[0m\u001b[31m \u001b[0m\u001b[1;31mTraceback \u001b[0m\u001b[1;2;31m(most recent call last)\u001b[0m\u001b[31m \u001b[0m\u001b[31m───────────────────────────────\u001b[0m\u001b[31m─╮\u001b[0m\n",
       "\u001b[31m│\u001b[0m in \u001b[92m<module>\u001b[0m:\u001b[94m1\u001b[0m                                                                                    \u001b[31m│\u001b[0m\n",
       "\u001b[31m│\u001b[0m                                                                                                  \u001b[31m│\u001b[0m\n",
       "\u001b[31m│\u001b[0m \u001b[31m❱ \u001b[0m1 \u001b[1;4mllm_manager\u001b[0m.get_count()                                                                      \u001b[31m│\u001b[0m\n",
       "\u001b[31m│\u001b[0m   \u001b[2m2 \u001b[0m                                                                                             \u001b[31m│\u001b[0m\n",
       "\u001b[31m╰──────────────────────────────────────────────────────────────────────────────────────────────────╯\u001b[0m\n",
       "\u001b[1;91mNameError: \u001b[0mname \u001b[32m'llm_manager'\u001b[0m is not defined\n"
      ]
     },
     "metadata": {},
     "output_type": "display_data"
    }
   ],
   "source": [
    "llm_manager.get_count()"
   ]
  },
  {
   "cell_type": "code",
   "execution_count": 48,
   "metadata": {},
   "outputs": [
    {
     "name": "stdout",
     "output_type": "stream",
     "text": [
      "reaching out to container now\n"
     ]
    },
    {
     "data": {
      "text/html": [
       "<pre style=\"white-space:pre;overflow-x:auto;line-height:normal;font-family:Menlo,'DejaVu Sans Mono',consolas,'Courier New',monospace\"><span style=\"color: #800000; text-decoration-color: #800000\">╭─────────────────────────────── </span><span style=\"color: #800000; text-decoration-color: #800000; font-weight: bold\">Traceback </span><span style=\"color: #bf7f7f; text-decoration-color: #bf7f7f; font-weight: bold\">(most recent call last)</span><span style=\"color: #800000; text-decoration-color: #800000\"> ────────────────────────────────╮</span>\n",
       "<span style=\"color: #800000; text-decoration-color: #800000\">│</span> in <span style=\"color: #00ff00; text-decoration-color: #00ff00\">&lt;module&gt;</span>:<span style=\"color: #0000ff; text-decoration-color: #0000ff\">17</span>                                                                                   <span style=\"color: #800000; text-decoration-color: #800000\">│</span>\n",
       "<span style=\"color: #800000; text-decoration-color: #800000\">│</span>                                                                                                  <span style=\"color: #800000; text-decoration-color: #800000\">│</span>\n",
       "<span style=\"color: #800000; text-decoration-color: #800000\">│</span>   <span style=\"color: #7f7f7f; text-decoration-color: #7f7f7f\">14 </span><span style=\"color: #7f7f7f; text-decoration-color: #7f7f7f\">│   </span>sleep(<span style=\"color: #0000ff; text-decoration-color: #0000ff\">2</span>)                                                                                <span style=\"color: #800000; text-decoration-color: #800000\">│</span>\n",
       "<span style=\"color: #800000; text-decoration-color: #800000\">│</span>   <span style=\"color: #7f7f7f; text-decoration-color: #7f7f7f\">15 </span><span style=\"color: #7f7f7f; text-decoration-color: #7f7f7f\">│   </span><span style=\"color: #00ffff; text-decoration-color: #00ffff\">print</span>(<span style=\"color: #808000; text-decoration-color: #808000\">\"reaching out to container now\"</span>)                                                  <span style=\"color: #800000; text-decoration-color: #800000\">│</span>\n",
       "<span style=\"color: #800000; text-decoration-color: #800000\">│</span>   <span style=\"color: #7f7f7f; text-decoration-color: #7f7f7f\">16 </span><span style=\"color: #7f7f7f; text-decoration-color: #7f7f7f\">│   </span><span style=\"color: #0000ff; text-decoration-color: #0000ff\">try</span>:                                                                                    <span style=\"color: #800000; text-decoration-color: #800000\">│</span>\n",
       "<span style=\"color: #800000; text-decoration-color: #800000\">│</span> <span style=\"color: #800000; text-decoration-color: #800000\">❱ </span>17 <span style=\"color: #7f7f7f; text-decoration-color: #7f7f7f\">│   │   </span>response = requests.post(                                                           <span style=\"color: #800000; text-decoration-color: #800000\">│</span>\n",
       "<span style=\"color: #800000; text-decoration-color: #800000\">│</span>   <span style=\"color: #7f7f7f; text-decoration-color: #7f7f7f\">18 </span><span style=\"color: #7f7f7f; text-decoration-color: #7f7f7f\">│   │   │   </span><span style=\"color: #808000; text-decoration-color: #808000\">f\"http://localhost:3000/call\"</span>,                                                  <span style=\"color: #800000; text-decoration-color: #800000\">│</span>\n",
       "<span style=\"color: #800000; text-decoration-color: #800000\">│</span>   <span style=\"color: #7f7f7f; text-decoration-color: #7f7f7f\">19 </span><span style=\"color: #7f7f7f; text-decoration-color: #7f7f7f\">│   │   │   </span>json={                                                                          <span style=\"color: #800000; text-decoration-color: #800000\">│</span>\n",
       "<span style=\"color: #800000; text-decoration-color: #800000\">│</span>   <span style=\"color: #7f7f7f; text-decoration-color: #7f7f7f\">20 </span><span style=\"color: #7f7f7f; text-decoration-color: #7f7f7f\">│   │   │   │   </span><span style=\"color: #808000; text-decoration-color: #808000\">\"repo_location\"</span>: <span style=\"color: #808000; text-decoration-color: #808000\">\"/app/repo\"</span>,                                               <span style=\"color: #800000; text-decoration-color: #800000\">│</span>\n",
       "<span style=\"color: #800000; text-decoration-color: #800000\">│</span>                                                                                                  <span style=\"color: #800000; text-decoration-color: #800000\">│</span>\n",
       "<span style=\"color: #800000; text-decoration-color: #800000\">│</span> <span style=\"color: #bfbf7f; text-decoration-color: #bfbf7f\">/home/bskesse/miniconda3/envs/code311/lib/python3.11/site-packages/requests/</span><span style=\"color: #808000; text-decoration-color: #808000; font-weight: bold\">api.py</span>:<span style=\"color: #0000ff; text-decoration-color: #0000ff\">115</span> in <span style=\"color: #00ff00; text-decoration-color: #00ff00\">post</span>   <span style=\"color: #800000; text-decoration-color: #800000\">│</span>\n",
       "<span style=\"color: #800000; text-decoration-color: #800000\">│</span>                                                                                                  <span style=\"color: #800000; text-decoration-color: #800000\">│</span>\n",
       "<span style=\"color: #800000; text-decoration-color: #800000\">│</span>   <span style=\"color: #7f7f7f; text-decoration-color: #7f7f7f\">112 </span><span style=\"color: #bfbf7f; text-decoration-color: #bfbf7f\">│   </span><span style=\"color: #808000; text-decoration-color: #808000\">:rtype: requests.Response</span>                                                              <span style=\"color: #800000; text-decoration-color: #800000\">│</span>\n",
       "<span style=\"color: #800000; text-decoration-color: #800000\">│</span>   <span style=\"color: #7f7f7f; text-decoration-color: #7f7f7f\">113 </span><span style=\"color: #bfbf7f; text-decoration-color: #bfbf7f\">│   </span><span style=\"color: #808000; text-decoration-color: #808000\">\"\"\"</span>                                                                                    <span style=\"color: #800000; text-decoration-color: #800000\">│</span>\n",
       "<span style=\"color: #800000; text-decoration-color: #800000\">│</span>   <span style=\"color: #7f7f7f; text-decoration-color: #7f7f7f\">114 </span><span style=\"color: #7f7f7f; text-decoration-color: #7f7f7f\">│   </span>                                                                                       <span style=\"color: #800000; text-decoration-color: #800000\">│</span>\n",
       "<span style=\"color: #800000; text-decoration-color: #800000\">│</span> <span style=\"color: #800000; text-decoration-color: #800000\">❱ </span>115 <span style=\"color: #7f7f7f; text-decoration-color: #7f7f7f\">│   </span><span style=\"color: #0000ff; text-decoration-color: #0000ff\">return</span> <span style=\"font-weight: bold; text-decoration: underline\">request(</span><span style=\"color: #808000; text-decoration-color: #808000; font-weight: bold; text-decoration: underline\">\"post\"</span><span style=\"font-weight: bold; text-decoration: underline\">, url, data=data, json=json, **kwargs)</span>                            <span style=\"color: #800000; text-decoration-color: #800000\">│</span>\n",
       "<span style=\"color: #800000; text-decoration-color: #800000\">│</span>   <span style=\"color: #7f7f7f; text-decoration-color: #7f7f7f\">116 </span>                                                                                           <span style=\"color: #800000; text-decoration-color: #800000\">│</span>\n",
       "<span style=\"color: #800000; text-decoration-color: #800000\">│</span>   <span style=\"color: #7f7f7f; text-decoration-color: #7f7f7f\">117 </span>                                                                                           <span style=\"color: #800000; text-decoration-color: #800000\">│</span>\n",
       "<span style=\"color: #800000; text-decoration-color: #800000\">│</span>   <span style=\"color: #7f7f7f; text-decoration-color: #7f7f7f\">118 </span><span style=\"color: #0000ff; text-decoration-color: #0000ff\">def</span> <span style=\"color: #00ff00; text-decoration-color: #00ff00\">put</span>(url, data=<span style=\"color: #0000ff; text-decoration-color: #0000ff\">None</span>, **kwargs):                                                         <span style=\"color: #800000; text-decoration-color: #800000\">│</span>\n",
       "<span style=\"color: #800000; text-decoration-color: #800000\">│</span>                                                                                                  <span style=\"color: #800000; text-decoration-color: #800000\">│</span>\n",
       "<span style=\"color: #800000; text-decoration-color: #800000\">│</span> <span style=\"color: #bfbf7f; text-decoration-color: #bfbf7f\">/home/bskesse/miniconda3/envs/code311/lib/python3.11/site-packages/requests/</span><span style=\"color: #808000; text-decoration-color: #808000; font-weight: bold\">api.py</span>:<span style=\"color: #0000ff; text-decoration-color: #0000ff\">59</span> in <span style=\"color: #00ff00; text-decoration-color: #00ff00\">request</span> <span style=\"color: #800000; text-decoration-color: #800000\">│</span>\n",
       "<span style=\"color: #800000; text-decoration-color: #800000\">│</span>                                                                                                  <span style=\"color: #800000; text-decoration-color: #800000\">│</span>\n",
       "<span style=\"color: #800000; text-decoration-color: #800000\">│</span>   <span style=\"color: #7f7f7f; text-decoration-color: #7f7f7f\"> 56 </span><span style=\"color: #7f7f7f; text-decoration-color: #7f7f7f\">│   </span><span style=\"color: #7f7f7f; text-decoration-color: #7f7f7f\"># avoid leaving sockets open which can trigger a ResourceWarning in some</span>               <span style=\"color: #800000; text-decoration-color: #800000\">│</span>\n",
       "<span style=\"color: #800000; text-decoration-color: #800000\">│</span>   <span style=\"color: #7f7f7f; text-decoration-color: #7f7f7f\"> 57 </span><span style=\"color: #7f7f7f; text-decoration-color: #7f7f7f\">│   </span><span style=\"color: #7f7f7f; text-decoration-color: #7f7f7f\"># cases, and look like a memory leak in others.</span>                                        <span style=\"color: #800000; text-decoration-color: #800000\">│</span>\n",
       "<span style=\"color: #800000; text-decoration-color: #800000\">│</span>   <span style=\"color: #7f7f7f; text-decoration-color: #7f7f7f\"> 58 </span><span style=\"color: #7f7f7f; text-decoration-color: #7f7f7f\">│   </span><span style=\"color: #0000ff; text-decoration-color: #0000ff\">with</span> sessions.Session() <span style=\"color: #0000ff; text-decoration-color: #0000ff\">as</span> session:                                                    <span style=\"color: #800000; text-decoration-color: #800000\">│</span>\n",
       "<span style=\"color: #800000; text-decoration-color: #800000\">│</span> <span style=\"color: #800000; text-decoration-color: #800000\">❱ </span> 59 <span style=\"color: #7f7f7f; text-decoration-color: #7f7f7f\">│   │   </span><span style=\"color: #0000ff; text-decoration-color: #0000ff\">return</span> <span style=\"font-weight: bold; text-decoration: underline\">session.request(method=method, url=url, **kwargs)</span>                           <span style=\"color: #800000; text-decoration-color: #800000\">│</span>\n",
       "<span style=\"color: #800000; text-decoration-color: #800000\">│</span>   <span style=\"color: #7f7f7f; text-decoration-color: #7f7f7f\"> 60 </span>                                                                                           <span style=\"color: #800000; text-decoration-color: #800000\">│</span>\n",
       "<span style=\"color: #800000; text-decoration-color: #800000\">│</span>   <span style=\"color: #7f7f7f; text-decoration-color: #7f7f7f\"> 61 </span>                                                                                           <span style=\"color: #800000; text-decoration-color: #800000\">│</span>\n",
       "<span style=\"color: #800000; text-decoration-color: #800000\">│</span>   <span style=\"color: #7f7f7f; text-decoration-color: #7f7f7f\"> 62 </span><span style=\"color: #0000ff; text-decoration-color: #0000ff\">def</span> <span style=\"color: #00ff00; text-decoration-color: #00ff00\">get</span>(url, params=<span style=\"color: #0000ff; text-decoration-color: #0000ff\">None</span>, **kwargs):                                                       <span style=\"color: #800000; text-decoration-color: #800000\">│</span>\n",
       "<span style=\"color: #800000; text-decoration-color: #800000\">│</span>                                                                                                  <span style=\"color: #800000; text-decoration-color: #800000\">│</span>\n",
       "<span style=\"color: #800000; text-decoration-color: #800000\">│</span> <span style=\"color: #bfbf7f; text-decoration-color: #bfbf7f\">/home/bskesse/miniconda3/envs/code311/lib/python3.11/site-packages/requests/</span><span style=\"color: #808000; text-decoration-color: #808000; font-weight: bold\">sessions.py</span>:<span style=\"color: #0000ff; text-decoration-color: #0000ff\">589</span> in   <span style=\"color: #800000; text-decoration-color: #800000\">│</span>\n",
       "<span style=\"color: #800000; text-decoration-color: #800000\">│</span> <span style=\"color: #00ff00; text-decoration-color: #00ff00\">request</span>                                                                                          <span style=\"color: #800000; text-decoration-color: #800000\">│</span>\n",
       "<span style=\"color: #800000; text-decoration-color: #800000\">│</span>                                                                                                  <span style=\"color: #800000; text-decoration-color: #800000\">│</span>\n",
       "<span style=\"color: #800000; text-decoration-color: #800000\">│</span>   <span style=\"color: #7f7f7f; text-decoration-color: #7f7f7f\">586 </span><span style=\"color: #7f7f7f; text-decoration-color: #7f7f7f\">│   │   │   </span><span style=\"color: #808000; text-decoration-color: #808000\">\"allow_redirects\"</span>: allow_redirects,                                            <span style=\"color: #800000; text-decoration-color: #800000\">│</span>\n",
       "<span style=\"color: #800000; text-decoration-color: #800000\">│</span>   <span style=\"color: #7f7f7f; text-decoration-color: #7f7f7f\">587 </span><span style=\"color: #7f7f7f; text-decoration-color: #7f7f7f\">│   │   </span>}                                                                                  <span style=\"color: #800000; text-decoration-color: #800000\">│</span>\n",
       "<span style=\"color: #800000; text-decoration-color: #800000\">│</span>   <span style=\"color: #7f7f7f; text-decoration-color: #7f7f7f\">588 </span><span style=\"color: #7f7f7f; text-decoration-color: #7f7f7f\">│   │   </span>send_kwargs.update(settings)                                                       <span style=\"color: #800000; text-decoration-color: #800000\">│</span>\n",
       "<span style=\"color: #800000; text-decoration-color: #800000\">│</span> <span style=\"color: #800000; text-decoration-color: #800000\">❱ </span>589 <span style=\"color: #7f7f7f; text-decoration-color: #7f7f7f\">│   │   </span>resp = <span style=\"color: #00ffff; text-decoration-color: #00ffff; font-weight: bold; text-decoration: underline\">self</span><span style=\"font-weight: bold; text-decoration: underline\">.send(prep, **send_kwargs)</span>                                              <span style=\"color: #800000; text-decoration-color: #800000\">│</span>\n",
       "<span style=\"color: #800000; text-decoration-color: #800000\">│</span>   <span style=\"color: #7f7f7f; text-decoration-color: #7f7f7f\">590 </span><span style=\"color: #7f7f7f; text-decoration-color: #7f7f7f\">│   │   </span>                                                                                   <span style=\"color: #800000; text-decoration-color: #800000\">│</span>\n",
       "<span style=\"color: #800000; text-decoration-color: #800000\">│</span>   <span style=\"color: #7f7f7f; text-decoration-color: #7f7f7f\">591 </span><span style=\"color: #7f7f7f; text-decoration-color: #7f7f7f\">│   │   </span><span style=\"color: #0000ff; text-decoration-color: #0000ff\">return</span> resp                                                                        <span style=\"color: #800000; text-decoration-color: #800000\">│</span>\n",
       "<span style=\"color: #800000; text-decoration-color: #800000\">│</span>   <span style=\"color: #7f7f7f; text-decoration-color: #7f7f7f\">592 </span>                                                                                           <span style=\"color: #800000; text-decoration-color: #800000\">│</span>\n",
       "<span style=\"color: #800000; text-decoration-color: #800000\">│</span>                                                                                                  <span style=\"color: #800000; text-decoration-color: #800000\">│</span>\n",
       "<span style=\"color: #800000; text-decoration-color: #800000\">│</span> <span style=\"color: #bfbf7f; text-decoration-color: #bfbf7f\">/home/bskesse/miniconda3/envs/code311/lib/python3.11/site-packages/requests/</span><span style=\"color: #808000; text-decoration-color: #808000; font-weight: bold\">sessions.py</span>:<span style=\"color: #0000ff; text-decoration-color: #0000ff\">703</span> in   <span style=\"color: #800000; text-decoration-color: #800000\">│</span>\n",
       "<span style=\"color: #800000; text-decoration-color: #800000\">│</span> <span style=\"color: #00ff00; text-decoration-color: #00ff00\">send</span>                                                                                             <span style=\"color: #800000; text-decoration-color: #800000\">│</span>\n",
       "<span style=\"color: #800000; text-decoration-color: #800000\">│</span>                                                                                                  <span style=\"color: #800000; text-decoration-color: #800000\">│</span>\n",
       "<span style=\"color: #800000; text-decoration-color: #800000\">│</span>   <span style=\"color: #7f7f7f; text-decoration-color: #7f7f7f\">700 </span><span style=\"color: #7f7f7f; text-decoration-color: #7f7f7f\">│   │   </span>start = preferred_clock()                                                          <span style=\"color: #800000; text-decoration-color: #800000\">│</span>\n",
       "<span style=\"color: #800000; text-decoration-color: #800000\">│</span>   <span style=\"color: #7f7f7f; text-decoration-color: #7f7f7f\">701 </span><span style=\"color: #7f7f7f; text-decoration-color: #7f7f7f\">│   │   </span>                                                                                   <span style=\"color: #800000; text-decoration-color: #800000\">│</span>\n",
       "<span style=\"color: #800000; text-decoration-color: #800000\">│</span>   <span style=\"color: #7f7f7f; text-decoration-color: #7f7f7f\">702 </span><span style=\"color: #7f7f7f; text-decoration-color: #7f7f7f\">│   │   </span><span style=\"color: #7f7f7f; text-decoration-color: #7f7f7f\"># Send the request</span>                                                                 <span style=\"color: #800000; text-decoration-color: #800000\">│</span>\n",
       "<span style=\"color: #800000; text-decoration-color: #800000\">│</span> <span style=\"color: #800000; text-decoration-color: #800000\">❱ </span>703 <span style=\"color: #7f7f7f; text-decoration-color: #7f7f7f\">│   │   </span>r = <span style=\"font-weight: bold; text-decoration: underline\">adapter.send(request, **kwargs)</span>                                                <span style=\"color: #800000; text-decoration-color: #800000\">│</span>\n",
       "<span style=\"color: #800000; text-decoration-color: #800000\">│</span>   <span style=\"color: #7f7f7f; text-decoration-color: #7f7f7f\">704 </span><span style=\"color: #7f7f7f; text-decoration-color: #7f7f7f\">│   │   </span>                                                                                   <span style=\"color: #800000; text-decoration-color: #800000\">│</span>\n",
       "<span style=\"color: #800000; text-decoration-color: #800000\">│</span>   <span style=\"color: #7f7f7f; text-decoration-color: #7f7f7f\">705 </span><span style=\"color: #7f7f7f; text-decoration-color: #7f7f7f\">│   │   </span><span style=\"color: #7f7f7f; text-decoration-color: #7f7f7f\"># Total elapsed time of the request (approximately)</span>                                <span style=\"color: #800000; text-decoration-color: #800000\">│</span>\n",
       "<span style=\"color: #800000; text-decoration-color: #800000\">│</span>   <span style=\"color: #7f7f7f; text-decoration-color: #7f7f7f\">706 </span><span style=\"color: #7f7f7f; text-decoration-color: #7f7f7f\">│   │   </span>elapsed = preferred_clock() - start                                                <span style=\"color: #800000; text-decoration-color: #800000\">│</span>\n",
       "<span style=\"color: #800000; text-decoration-color: #800000\">│</span>                                                                                                  <span style=\"color: #800000; text-decoration-color: #800000\">│</span>\n",
       "<span style=\"color: #800000; text-decoration-color: #800000\">│</span> <span style=\"color: #bfbf7f; text-decoration-color: #bfbf7f\">/home/bskesse/miniconda3/envs/code311/lib/python3.11/site-packages/requests/</span><span style=\"color: #808000; text-decoration-color: #808000; font-weight: bold\">adapters.py</span>:<span style=\"color: #0000ff; text-decoration-color: #0000ff\">667</span> in   <span style=\"color: #800000; text-decoration-color: #800000\">│</span>\n",
       "<span style=\"color: #800000; text-decoration-color: #800000\">│</span> <span style=\"color: #00ff00; text-decoration-color: #00ff00\">send</span>                                                                                             <span style=\"color: #800000; text-decoration-color: #800000\">│</span>\n",
       "<span style=\"color: #800000; text-decoration-color: #800000\">│</span>                                                                                                  <span style=\"color: #800000; text-decoration-color: #800000\">│</span>\n",
       "<span style=\"color: #800000; text-decoration-color: #800000\">│</span>   <span style=\"color: #7f7f7f; text-decoration-color: #7f7f7f\">664 </span><span style=\"color: #7f7f7f; text-decoration-color: #7f7f7f\">│   │   │   </span>timeout = TimeoutSauce(connect=timeout, read=timeout)                          <span style=\"color: #800000; text-decoration-color: #800000\">│</span>\n",
       "<span style=\"color: #800000; text-decoration-color: #800000\">│</span>   <span style=\"color: #7f7f7f; text-decoration-color: #7f7f7f\">665 </span><span style=\"color: #7f7f7f; text-decoration-color: #7f7f7f\">│   │   </span>                                                                                   <span style=\"color: #800000; text-decoration-color: #800000\">│</span>\n",
       "<span style=\"color: #800000; text-decoration-color: #800000\">│</span>   <span style=\"color: #7f7f7f; text-decoration-color: #7f7f7f\">666 </span><span style=\"color: #7f7f7f; text-decoration-color: #7f7f7f\">│   │   </span><span style=\"color: #0000ff; text-decoration-color: #0000ff\">try</span>:                                                                               <span style=\"color: #800000; text-decoration-color: #800000\">│</span>\n",
       "<span style=\"color: #800000; text-decoration-color: #800000\">│</span> <span style=\"color: #800000; text-decoration-color: #800000\">❱ </span>667 <span style=\"color: #7f7f7f; text-decoration-color: #7f7f7f\">│   │   │   </span>resp = conn.urlopen(                                                           <span style=\"color: #800000; text-decoration-color: #800000\">│</span>\n",
       "<span style=\"color: #800000; text-decoration-color: #800000\">│</span>   <span style=\"color: #7f7f7f; text-decoration-color: #7f7f7f\">668 </span><span style=\"color: #7f7f7f; text-decoration-color: #7f7f7f\">│   │   │   │   </span>method=request.method,                                                     <span style=\"color: #800000; text-decoration-color: #800000\">│</span>\n",
       "<span style=\"color: #800000; text-decoration-color: #800000\">│</span>   <span style=\"color: #7f7f7f; text-decoration-color: #7f7f7f\">669 </span><span style=\"color: #7f7f7f; text-decoration-color: #7f7f7f\">│   │   │   │   </span>url=url,                                                                   <span style=\"color: #800000; text-decoration-color: #800000\">│</span>\n",
       "<span style=\"color: #800000; text-decoration-color: #800000\">│</span>   <span style=\"color: #7f7f7f; text-decoration-color: #7f7f7f\">670 </span><span style=\"color: #7f7f7f; text-decoration-color: #7f7f7f\">│   │   │   │   </span>body=request.body,                                                         <span style=\"color: #800000; text-decoration-color: #800000\">│</span>\n",
       "<span style=\"color: #800000; text-decoration-color: #800000\">│</span>                                                                                                  <span style=\"color: #800000; text-decoration-color: #800000\">│</span>\n",
       "<span style=\"color: #800000; text-decoration-color: #800000\">│</span> <span style=\"color: #bfbf7f; text-decoration-color: #bfbf7f\">/home/bskesse/miniconda3/envs/code311/lib/python3.11/site-packages/urllib3/</span><span style=\"color: #808000; text-decoration-color: #808000; font-weight: bold\">connectionpool.py</span>:<span style=\"color: #0000ff; text-decoration-color: #0000ff\">789</span> <span style=\"color: #800000; text-decoration-color: #800000\">│</span>\n",
       "<span style=\"color: #800000; text-decoration-color: #800000\">│</span> in <span style=\"color: #00ff00; text-decoration-color: #00ff00\">urlopen</span>                                                                                       <span style=\"color: #800000; text-decoration-color: #800000\">│</span>\n",
       "<span style=\"color: #800000; text-decoration-color: #800000\">│</span>                                                                                                  <span style=\"color: #800000; text-decoration-color: #800000\">│</span>\n",
       "<span style=\"color: #800000; text-decoration-color: #800000\">│</span>   <span style=\"color: #7f7f7f; text-decoration-color: #7f7f7f\"> 786 </span><span style=\"color: #7f7f7f; text-decoration-color: #7f7f7f\">│   │   │   </span>response_conn = conn <span style=\"color: #0000ff; text-decoration-color: #0000ff\">if</span> <span style=\"color: #ff00ff; text-decoration-color: #ff00ff\">not</span> release_conn <span style=\"color: #0000ff; text-decoration-color: #0000ff\">else</span> <span style=\"color: #0000ff; text-decoration-color: #0000ff\">None</span>                            <span style=\"color: #800000; text-decoration-color: #800000\">│</span>\n",
       "<span style=\"color: #800000; text-decoration-color: #800000\">│</span>   <span style=\"color: #7f7f7f; text-decoration-color: #7f7f7f\"> 787 </span><span style=\"color: #7f7f7f; text-decoration-color: #7f7f7f\">│   │   │   </span>                                                                              <span style=\"color: #800000; text-decoration-color: #800000\">│</span>\n",
       "<span style=\"color: #800000; text-decoration-color: #800000\">│</span>   <span style=\"color: #7f7f7f; text-decoration-color: #7f7f7f\"> 788 </span><span style=\"color: #7f7f7f; text-decoration-color: #7f7f7f\">│   │   │   </span><span style=\"color: #7f7f7f; text-decoration-color: #7f7f7f\"># Make the request on the HTTPConnection object</span>                               <span style=\"color: #800000; text-decoration-color: #800000\">│</span>\n",
       "<span style=\"color: #800000; text-decoration-color: #800000\">│</span> <span style=\"color: #800000; text-decoration-color: #800000\">❱ </span> 789 <span style=\"color: #7f7f7f; text-decoration-color: #7f7f7f\">│   │   │   </span>response = <span style=\"color: #00ffff; text-decoration-color: #00ffff\">self</span>._make_request(                                                <span style=\"color: #800000; text-decoration-color: #800000\">│</span>\n",
       "<span style=\"color: #800000; text-decoration-color: #800000\">│</span>   <span style=\"color: #7f7f7f; text-decoration-color: #7f7f7f\"> 790 </span><span style=\"color: #7f7f7f; text-decoration-color: #7f7f7f\">│   │   │   │   </span>conn,                                                                     <span style=\"color: #800000; text-decoration-color: #800000\">│</span>\n",
       "<span style=\"color: #800000; text-decoration-color: #800000\">│</span>   <span style=\"color: #7f7f7f; text-decoration-color: #7f7f7f\"> 791 </span><span style=\"color: #7f7f7f; text-decoration-color: #7f7f7f\">│   │   │   │   </span>method,                                                                   <span style=\"color: #800000; text-decoration-color: #800000\">│</span>\n",
       "<span style=\"color: #800000; text-decoration-color: #800000\">│</span>   <span style=\"color: #7f7f7f; text-decoration-color: #7f7f7f\"> 792 </span><span style=\"color: #7f7f7f; text-decoration-color: #7f7f7f\">│   │   │   │   </span>url,                                                                      <span style=\"color: #800000; text-decoration-color: #800000\">│</span>\n",
       "<span style=\"color: #800000; text-decoration-color: #800000\">│</span>                                                                                                  <span style=\"color: #800000; text-decoration-color: #800000\">│</span>\n",
       "<span style=\"color: #800000; text-decoration-color: #800000\">│</span> <span style=\"color: #bfbf7f; text-decoration-color: #bfbf7f\">/home/bskesse/miniconda3/envs/code311/lib/python3.11/site-packages/urllib3/</span><span style=\"color: #808000; text-decoration-color: #808000; font-weight: bold\">connectionpool.py</span>:<span style=\"color: #0000ff; text-decoration-color: #0000ff\">536</span> <span style=\"color: #800000; text-decoration-color: #800000\">│</span>\n",
       "<span style=\"color: #800000; text-decoration-color: #800000\">│</span> in <span style=\"color: #00ff00; text-decoration-color: #00ff00\">_make_request</span>                                                                                 <span style=\"color: #800000; text-decoration-color: #800000\">│</span>\n",
       "<span style=\"color: #800000; text-decoration-color: #800000\">│</span>                                                                                                  <span style=\"color: #800000; text-decoration-color: #800000\">│</span>\n",
       "<span style=\"color: #800000; text-decoration-color: #800000\">│</span>   <span style=\"color: #7f7f7f; text-decoration-color: #7f7f7f\"> 533 </span><span style=\"color: #7f7f7f; text-decoration-color: #7f7f7f\">│   │   </span>                                                                                  <span style=\"color: #800000; text-decoration-color: #800000\">│</span>\n",
       "<span style=\"color: #800000; text-decoration-color: #800000\">│</span>   <span style=\"color: #7f7f7f; text-decoration-color: #7f7f7f\"> 534 </span><span style=\"color: #7f7f7f; text-decoration-color: #7f7f7f\">│   │   </span><span style=\"color: #7f7f7f; text-decoration-color: #7f7f7f\"># Receive the response from the server</span>                                            <span style=\"color: #800000; text-decoration-color: #800000\">│</span>\n",
       "<span style=\"color: #800000; text-decoration-color: #800000\">│</span>   <span style=\"color: #7f7f7f; text-decoration-color: #7f7f7f\"> 535 </span><span style=\"color: #7f7f7f; text-decoration-color: #7f7f7f\">│   │   </span><span style=\"color: #0000ff; text-decoration-color: #0000ff\">try</span>:                                                                              <span style=\"color: #800000; text-decoration-color: #800000\">│</span>\n",
       "<span style=\"color: #800000; text-decoration-color: #800000\">│</span> <span style=\"color: #800000; text-decoration-color: #800000\">❱ </span> 536 <span style=\"color: #7f7f7f; text-decoration-color: #7f7f7f\">│   │   │   </span>response = conn.getresponse()                                                 <span style=\"color: #800000; text-decoration-color: #800000\">│</span>\n",
       "<span style=\"color: #800000; text-decoration-color: #800000\">│</span>   <span style=\"color: #7f7f7f; text-decoration-color: #7f7f7f\"> 537 </span><span style=\"color: #7f7f7f; text-decoration-color: #7f7f7f\">│   │   </span><span style=\"color: #0000ff; text-decoration-color: #0000ff; font-weight: bold; text-decoration: underline\">except</span><span style=\"font-weight: bold; text-decoration: underline\"> (BaseSSLError, </span><span style=\"color: #00ffff; text-decoration-color: #00ffff; font-weight: bold; text-decoration: underline\">OSError</span><span style=\"font-weight: bold; text-decoration: underline\">) </span><span style=\"color: #0000ff; text-decoration-color: #0000ff; font-weight: bold; text-decoration: underline\">as</span><span style=\"font-weight: bold; text-decoration: underline\"> e:</span>                                              <span style=\"color: #800000; text-decoration-color: #800000\">│</span>\n",
       "<span style=\"color: #800000; text-decoration-color: #800000\">│</span>   <span style=\"color: #7f7f7f; text-decoration-color: #7f7f7f\"> 538 </span><span style=\"color: #7f7f7f; text-decoration-color: #7f7f7f; font-weight: bold; text-decoration: underline\">│   │   │   </span><span style=\"color: #00ffff; text-decoration-color: #00ffff; font-weight: bold; text-decoration: underline\">self</span><span style=\"font-weight: bold; text-decoration: underline\">._raise_timeout(err=e, url=url, timeout_value=read_timeout)</span>               <span style=\"color: #800000; text-decoration-color: #800000\">│</span>\n",
       "<span style=\"color: #800000; text-decoration-color: #800000\">│</span>   <span style=\"color: #7f7f7f; text-decoration-color: #7f7f7f\"> 539 </span><span style=\"color: #7f7f7f; text-decoration-color: #7f7f7f; font-weight: bold; text-decoration: underline\">│   │   │   </span><span style=\"color: #0000ff; text-decoration-color: #0000ff; font-weight: bold; text-decoration: underline\">raise</span>                                                                         <span style=\"color: #800000; text-decoration-color: #800000\">│</span>\n",
       "<span style=\"color: #800000; text-decoration-color: #800000\">│</span>                                                                                                  <span style=\"color: #800000; text-decoration-color: #800000\">│</span>\n",
       "<span style=\"color: #800000; text-decoration-color: #800000\">│</span> <span style=\"color: #bfbf7f; text-decoration-color: #bfbf7f\">/home/bskesse/miniconda3/envs/code311/lib/python3.11/site-packages/urllib3/</span><span style=\"color: #808000; text-decoration-color: #808000; font-weight: bold\">connection.py</span>:<span style=\"color: #0000ff; text-decoration-color: #0000ff\">507</span> in  <span style=\"color: #800000; text-decoration-color: #800000\">│</span>\n",
       "<span style=\"color: #800000; text-decoration-color: #800000\">│</span> <span style=\"color: #00ff00; text-decoration-color: #00ff00\">getresponse</span>                                                                                      <span style=\"color: #800000; text-decoration-color: #800000\">│</span>\n",
       "<span style=\"color: #800000; text-decoration-color: #800000\">│</span>                                                                                                  <span style=\"color: #800000; text-decoration-color: #800000\">│</span>\n",
       "<span style=\"color: #800000; text-decoration-color: #800000\">│</span>   <span style=\"color: #7f7f7f; text-decoration-color: #7f7f7f\"> 504 </span><span style=\"color: #7f7f7f; text-decoration-color: #7f7f7f\">│   │   </span><span style=\"color: #0000ff; text-decoration-color: #0000ff\">from</span> <span style=\"color: #00ffff; text-decoration-color: #00ffff; text-decoration: underline\">.response</span> <span style=\"color: #0000ff; text-decoration-color: #0000ff\">import</span> HTTPResponse                                                <span style=\"color: #800000; text-decoration-color: #800000\">│</span>\n",
       "<span style=\"color: #800000; text-decoration-color: #800000\">│</span>   <span style=\"color: #7f7f7f; text-decoration-color: #7f7f7f\"> 505 </span><span style=\"color: #7f7f7f; text-decoration-color: #7f7f7f\">│   │   </span>                                                                                  <span style=\"color: #800000; text-decoration-color: #800000\">│</span>\n",
       "<span style=\"color: #800000; text-decoration-color: #800000\">│</span>   <span style=\"color: #7f7f7f; text-decoration-color: #7f7f7f\"> 506 </span><span style=\"color: #7f7f7f; text-decoration-color: #7f7f7f\">│   │   </span><span style=\"color: #7f7f7f; text-decoration-color: #7f7f7f\"># Get the response from http.client.HTTPConnection</span>                                <span style=\"color: #800000; text-decoration-color: #800000\">│</span>\n",
       "<span style=\"color: #800000; text-decoration-color: #800000\">│</span> <span style=\"color: #800000; text-decoration-color: #800000\">❱ </span> 507 <span style=\"color: #7f7f7f; text-decoration-color: #7f7f7f\">│   │   </span>httplib_response = <span style=\"color: #00ffff; text-decoration-color: #00ffff; font-weight: bold; text-decoration: underline\">super</span><span style=\"font-weight: bold; text-decoration: underline\">().getresponse()</span>                                          <span style=\"color: #800000; text-decoration-color: #800000\">│</span>\n",
       "<span style=\"color: #800000; text-decoration-color: #800000\">│</span>   <span style=\"color: #7f7f7f; text-decoration-color: #7f7f7f\"> 508 </span><span style=\"color: #7f7f7f; text-decoration-color: #7f7f7f\">│   │   </span>                                                                                  <span style=\"color: #800000; text-decoration-color: #800000\">│</span>\n",
       "<span style=\"color: #800000; text-decoration-color: #800000\">│</span>   <span style=\"color: #7f7f7f; text-decoration-color: #7f7f7f\"> 509 </span><span style=\"color: #7f7f7f; text-decoration-color: #7f7f7f\">│   │   </span><span style=\"color: #0000ff; text-decoration-color: #0000ff\">try</span>:                                                                              <span style=\"color: #800000; text-decoration-color: #800000\">│</span>\n",
       "<span style=\"color: #800000; text-decoration-color: #800000\">│</span>   <span style=\"color: #7f7f7f; text-decoration-color: #7f7f7f\"> 510 </span><span style=\"color: #7f7f7f; text-decoration-color: #7f7f7f\">│   │   │   </span>assert_header_parsing(httplib_response.msg)                                   <span style=\"color: #800000; text-decoration-color: #800000\">│</span>\n",
       "<span style=\"color: #800000; text-decoration-color: #800000\">│</span>                                                                                                  <span style=\"color: #800000; text-decoration-color: #800000\">│</span>\n",
       "<span style=\"color: #800000; text-decoration-color: #800000\">│</span> <span style=\"color: #bfbf7f; text-decoration-color: #bfbf7f\">/home/bskesse/miniconda3/envs/code311/lib/python3.11/http/</span><span style=\"color: #808000; text-decoration-color: #808000; font-weight: bold\">client.py</span>:<span style=\"color: #0000ff; text-decoration-color: #0000ff\">1395</span> in <span style=\"color: #00ff00; text-decoration-color: #00ff00\">getresponse</span>          <span style=\"color: #800000; text-decoration-color: #800000\">│</span>\n",
       "<span style=\"color: #800000; text-decoration-color: #800000\">│</span>                                                                                                  <span style=\"color: #800000; text-decoration-color: #800000\">│</span>\n",
       "<span style=\"color: #800000; text-decoration-color: #800000\">│</span>   <span style=\"color: #7f7f7f; text-decoration-color: #7f7f7f\">1392 </span><span style=\"color: #7f7f7f; text-decoration-color: #7f7f7f\">│   │   </span>                                                                                  <span style=\"color: #800000; text-decoration-color: #800000\">│</span>\n",
       "<span style=\"color: #800000; text-decoration-color: #800000\">│</span>   <span style=\"color: #7f7f7f; text-decoration-color: #7f7f7f\">1393 </span><span style=\"color: #7f7f7f; text-decoration-color: #7f7f7f\">│   │   </span><span style=\"color: #0000ff; text-decoration-color: #0000ff\">try</span>:                                                                              <span style=\"color: #800000; text-decoration-color: #800000\">│</span>\n",
       "<span style=\"color: #800000; text-decoration-color: #800000\">│</span>   <span style=\"color: #7f7f7f; text-decoration-color: #7f7f7f\">1394 </span><span style=\"color: #7f7f7f; text-decoration-color: #7f7f7f\">│   │   │   </span><span style=\"color: #0000ff; text-decoration-color: #0000ff\">try</span>:                                                                          <span style=\"color: #800000; text-decoration-color: #800000\">│</span>\n",
       "<span style=\"color: #800000; text-decoration-color: #800000\">│</span> <span style=\"color: #800000; text-decoration-color: #800000\">❱ </span>1395 <span style=\"color: #7f7f7f; text-decoration-color: #7f7f7f\">│   │   │   │   </span>response.begin()                                                          <span style=\"color: #800000; text-decoration-color: #800000\">│</span>\n",
       "<span style=\"color: #800000; text-decoration-color: #800000\">│</span>   <span style=\"color: #7f7f7f; text-decoration-color: #7f7f7f\">1396 </span><span style=\"color: #7f7f7f; text-decoration-color: #7f7f7f\">│   │   │   </span><span style=\"color: #0000ff; text-decoration-color: #0000ff\">except</span> <span style=\"color: #00ffff; text-decoration-color: #00ffff\">ConnectionError</span>:                                                       <span style=\"color: #800000; text-decoration-color: #800000\">│</span>\n",
       "<span style=\"color: #800000; text-decoration-color: #800000\">│</span>   <span style=\"color: #7f7f7f; text-decoration-color: #7f7f7f\">1397 </span><span style=\"color: #7f7f7f; text-decoration-color: #7f7f7f\">│   │   │   │   </span><span style=\"color: #00ffff; text-decoration-color: #00ffff\">self</span>.close()                                                              <span style=\"color: #800000; text-decoration-color: #800000\">│</span>\n",
       "<span style=\"color: #800000; text-decoration-color: #800000\">│</span>   <span style=\"color: #7f7f7f; text-decoration-color: #7f7f7f\">1398 </span><span style=\"color: #7f7f7f; text-decoration-color: #7f7f7f\">│   │   │   │   </span><span style=\"color: #0000ff; text-decoration-color: #0000ff\">raise</span>                                                                     <span style=\"color: #800000; text-decoration-color: #800000\">│</span>\n",
       "<span style=\"color: #800000; text-decoration-color: #800000\">│</span>                                                                                                  <span style=\"color: #800000; text-decoration-color: #800000\">│</span>\n",
       "<span style=\"color: #800000; text-decoration-color: #800000\">│</span> <span style=\"color: #bfbf7f; text-decoration-color: #bfbf7f\">/home/bskesse/miniconda3/envs/code311/lib/python3.11/http/</span><span style=\"color: #808000; text-decoration-color: #808000; font-weight: bold\">client.py</span>:<span style=\"color: #0000ff; text-decoration-color: #0000ff\">325</span> in <span style=\"color: #00ff00; text-decoration-color: #00ff00\">begin</span>                 <span style=\"color: #800000; text-decoration-color: #800000\">│</span>\n",
       "<span style=\"color: #800000; text-decoration-color: #800000\">│</span>                                                                                                  <span style=\"color: #800000; text-decoration-color: #800000\">│</span>\n",
       "<span style=\"color: #800000; text-decoration-color: #800000\">│</span>   <span style=\"color: #7f7f7f; text-decoration-color: #7f7f7f\"> 322 </span><span style=\"color: #7f7f7f; text-decoration-color: #7f7f7f\">│   │   </span>                                                                                  <span style=\"color: #800000; text-decoration-color: #800000\">│</span>\n",
       "<span style=\"color: #800000; text-decoration-color: #800000\">│</span>   <span style=\"color: #7f7f7f; text-decoration-color: #7f7f7f\"> 323 </span><span style=\"color: #7f7f7f; text-decoration-color: #7f7f7f\">│   │   </span><span style=\"color: #7f7f7f; text-decoration-color: #7f7f7f\"># read until we get a non-100 response</span>                                            <span style=\"color: #800000; text-decoration-color: #800000\">│</span>\n",
       "<span style=\"color: #800000; text-decoration-color: #800000\">│</span>   <span style=\"color: #7f7f7f; text-decoration-color: #7f7f7f\"> 324 </span><span style=\"color: #7f7f7f; text-decoration-color: #7f7f7f\">│   │   </span><span style=\"color: #0000ff; text-decoration-color: #0000ff\">while</span> <span style=\"color: #0000ff; text-decoration-color: #0000ff\">True</span>:                                                                       <span style=\"color: #800000; text-decoration-color: #800000\">│</span>\n",
       "<span style=\"color: #800000; text-decoration-color: #800000\">│</span> <span style=\"color: #800000; text-decoration-color: #800000\">❱ </span> 325 <span style=\"color: #7f7f7f; text-decoration-color: #7f7f7f\">│   │   │   </span>version, status, reason = <span style=\"color: #00ffff; text-decoration-color: #00ffff; font-weight: bold; text-decoration: underline\">self</span><span style=\"font-weight: bold; text-decoration: underline\">._read_status()</span>                                 <span style=\"color: #800000; text-decoration-color: #800000\">│</span>\n",
       "<span style=\"color: #800000; text-decoration-color: #800000\">│</span>   <span style=\"color: #7f7f7f; text-decoration-color: #7f7f7f\"> 326 </span><span style=\"color: #7f7f7f; text-decoration-color: #7f7f7f\">│   │   │   </span><span style=\"color: #0000ff; text-decoration-color: #0000ff\">if</span> status != CONTINUE:                                                        <span style=\"color: #800000; text-decoration-color: #800000\">│</span>\n",
       "<span style=\"color: #800000; text-decoration-color: #800000\">│</span>   <span style=\"color: #7f7f7f; text-decoration-color: #7f7f7f\"> 327 </span><span style=\"color: #7f7f7f; text-decoration-color: #7f7f7f\">│   │   │   │   </span><span style=\"color: #0000ff; text-decoration-color: #0000ff\">break</span>                                                                     <span style=\"color: #800000; text-decoration-color: #800000\">│</span>\n",
       "<span style=\"color: #800000; text-decoration-color: #800000\">│</span>   <span style=\"color: #7f7f7f; text-decoration-color: #7f7f7f\"> 328 </span><span style=\"color: #7f7f7f; text-decoration-color: #7f7f7f\">│   │   │   </span><span style=\"color: #7f7f7f; text-decoration-color: #7f7f7f\"># skip the header from the 100 response</span>                                       <span style=\"color: #800000; text-decoration-color: #800000\">│</span>\n",
       "<span style=\"color: #800000; text-decoration-color: #800000\">│</span>                                                                                                  <span style=\"color: #800000; text-decoration-color: #800000\">│</span>\n",
       "<span style=\"color: #800000; text-decoration-color: #800000\">│</span> <span style=\"color: #bfbf7f; text-decoration-color: #bfbf7f\">/home/bskesse/miniconda3/envs/code311/lib/python3.11/http/</span><span style=\"color: #808000; text-decoration-color: #808000; font-weight: bold\">client.py</span>:<span style=\"color: #0000ff; text-decoration-color: #0000ff\">286</span> in <span style=\"color: #00ff00; text-decoration-color: #00ff00\">_read_status</span>          <span style=\"color: #800000; text-decoration-color: #800000\">│</span>\n",
       "<span style=\"color: #800000; text-decoration-color: #800000\">│</span>                                                                                                  <span style=\"color: #800000; text-decoration-color: #800000\">│</span>\n",
       "<span style=\"color: #800000; text-decoration-color: #800000\">│</span>   <span style=\"color: #7f7f7f; text-decoration-color: #7f7f7f\"> 283 </span><span style=\"color: #7f7f7f; text-decoration-color: #7f7f7f\">│   │   </span><span style=\"color: #00ffff; text-decoration-color: #00ffff\">self</span>.will_close = _UNKNOWN      <span style=\"color: #7f7f7f; text-decoration-color: #7f7f7f\"># conn will close at end of response</span>              <span style=\"color: #800000; text-decoration-color: #800000\">│</span>\n",
       "<span style=\"color: #800000; text-decoration-color: #800000\">│</span>   <span style=\"color: #7f7f7f; text-decoration-color: #7f7f7f\"> 284 </span><span style=\"color: #7f7f7f; text-decoration-color: #7f7f7f\">│   </span>                                                                                      <span style=\"color: #800000; text-decoration-color: #800000\">│</span>\n",
       "<span style=\"color: #800000; text-decoration-color: #800000\">│</span>   <span style=\"color: #7f7f7f; text-decoration-color: #7f7f7f\"> 285 </span><span style=\"color: #7f7f7f; text-decoration-color: #7f7f7f\">│   </span><span style=\"color: #0000ff; text-decoration-color: #0000ff\">def</span> <span style=\"color: #00ff00; text-decoration-color: #00ff00\">_read_status</span>(<span style=\"color: #00ffff; text-decoration-color: #00ffff\">self</span>):                                                               <span style=\"color: #800000; text-decoration-color: #800000\">│</span>\n",
       "<span style=\"color: #800000; text-decoration-color: #800000\">│</span> <span style=\"color: #800000; text-decoration-color: #800000\">❱ </span> 286 <span style=\"color: #7f7f7f; text-decoration-color: #7f7f7f\">│   │   </span>line = <span style=\"color: #00ffff; text-decoration-color: #00ffff\">str</span>(<span style=\"color: #00ffff; text-decoration-color: #00ffff; font-weight: bold; text-decoration: underline\">self</span><span style=\"font-weight: bold; text-decoration: underline\">.fp.readline(_MAXLINE + </span><span style=\"color: #0000ff; text-decoration-color: #0000ff; font-weight: bold; text-decoration: underline\">1</span><span style=\"font-weight: bold; text-decoration: underline\">)</span>, <span style=\"color: #808000; text-decoration-color: #808000\">\"iso-8859-1\"</span>)                          <span style=\"color: #800000; text-decoration-color: #800000\">│</span>\n",
       "<span style=\"color: #800000; text-decoration-color: #800000\">│</span>   <span style=\"color: #7f7f7f; text-decoration-color: #7f7f7f\"> 287 </span><span style=\"color: #7f7f7f; text-decoration-color: #7f7f7f\">│   │   </span><span style=\"color: #0000ff; text-decoration-color: #0000ff\">if</span> <span style=\"color: #00ffff; text-decoration-color: #00ffff\">len</span>(line) &gt; _MAXLINE:                                                          <span style=\"color: #800000; text-decoration-color: #800000\">│</span>\n",
       "<span style=\"color: #800000; text-decoration-color: #800000\">│</span>   <span style=\"color: #7f7f7f; text-decoration-color: #7f7f7f\"> 288 </span><span style=\"color: #7f7f7f; text-decoration-color: #7f7f7f\">│   │   │   </span><span style=\"color: #0000ff; text-decoration-color: #0000ff\">raise</span> LineTooLong(<span style=\"color: #808000; text-decoration-color: #808000\">\"status line\"</span>)                                              <span style=\"color: #800000; text-decoration-color: #800000\">│</span>\n",
       "<span style=\"color: #800000; text-decoration-color: #800000\">│</span>   <span style=\"color: #7f7f7f; text-decoration-color: #7f7f7f\"> 289 </span><span style=\"color: #7f7f7f; text-decoration-color: #7f7f7f\">│   │   </span><span style=\"color: #0000ff; text-decoration-color: #0000ff\">if</span> <span style=\"color: #00ffff; text-decoration-color: #00ffff\">self</span>.debuglevel &gt; <span style=\"color: #0000ff; text-decoration-color: #0000ff\">0</span>:                                                           <span style=\"color: #800000; text-decoration-color: #800000\">│</span>\n",
       "<span style=\"color: #800000; text-decoration-color: #800000\">│</span>                                                                                                  <span style=\"color: #800000; text-decoration-color: #800000\">│</span>\n",
       "<span style=\"color: #800000; text-decoration-color: #800000\">│</span> <span style=\"color: #bfbf7f; text-decoration-color: #bfbf7f\">/home/bskesse/miniconda3/envs/code311/lib/python3.11/</span><span style=\"color: #808000; text-decoration-color: #808000; font-weight: bold\">socket.py</span>:<span style=\"color: #0000ff; text-decoration-color: #0000ff\">718</span> in <span style=\"color: #00ff00; text-decoration-color: #00ff00\">readinto</span>                   <span style=\"color: #800000; text-decoration-color: #800000\">│</span>\n",
       "<span style=\"color: #800000; text-decoration-color: #800000\">│</span>                                                                                                  <span style=\"color: #800000; text-decoration-color: #800000\">│</span>\n",
       "<span style=\"color: #800000; text-decoration-color: #800000\">│</span>   <span style=\"color: #7f7f7f; text-decoration-color: #7f7f7f\">715 </span><span style=\"color: #7f7f7f; text-decoration-color: #7f7f7f\">│   │   │   </span><span style=\"color: #0000ff; text-decoration-color: #0000ff\">raise</span> <span style=\"color: #00ffff; text-decoration-color: #00ffff\">OSError</span>(<span style=\"color: #808000; text-decoration-color: #808000\">\"cannot read from timed out object\"</span>)                             <span style=\"color: #800000; text-decoration-color: #800000\">│</span>\n",
       "<span style=\"color: #800000; text-decoration-color: #800000\">│</span>   <span style=\"color: #7f7f7f; text-decoration-color: #7f7f7f\">716 </span><span style=\"color: #7f7f7f; text-decoration-color: #7f7f7f\">│   │   </span><span style=\"color: #0000ff; text-decoration-color: #0000ff\">while</span> <span style=\"color: #0000ff; text-decoration-color: #0000ff\">True</span>:                                                                        <span style=\"color: #800000; text-decoration-color: #800000\">│</span>\n",
       "<span style=\"color: #800000; text-decoration-color: #800000\">│</span>   <span style=\"color: #7f7f7f; text-decoration-color: #7f7f7f\">717 </span><span style=\"color: #7f7f7f; text-decoration-color: #7f7f7f\">│   │   │   </span><span style=\"color: #0000ff; text-decoration-color: #0000ff\">try</span>:                                                                           <span style=\"color: #800000; text-decoration-color: #800000\">│</span>\n",
       "<span style=\"color: #800000; text-decoration-color: #800000\">│</span> <span style=\"color: #800000; text-decoration-color: #800000\">❱ </span>718 <span style=\"color: #7f7f7f; text-decoration-color: #7f7f7f\">│   │   │   │   </span><span style=\"color: #0000ff; text-decoration-color: #0000ff\">return</span> <span style=\"color: #00ffff; text-decoration-color: #00ffff\">self</span>._sock.recv_into(b)                                             <span style=\"color: #800000; text-decoration-color: #800000\">│</span>\n",
       "<span style=\"color: #800000; text-decoration-color: #800000\">│</span>   <span style=\"color: #7f7f7f; text-decoration-color: #7f7f7f\">719 </span><span style=\"color: #7f7f7f; text-decoration-color: #7f7f7f\">│   │   │   </span><span style=\"color: #0000ff; text-decoration-color: #0000ff\">except</span> timeout:                                                                <span style=\"color: #800000; text-decoration-color: #800000\">│</span>\n",
       "<span style=\"color: #800000; text-decoration-color: #800000\">│</span>   <span style=\"color: #7f7f7f; text-decoration-color: #7f7f7f\">720 </span><span style=\"color: #7f7f7f; text-decoration-color: #7f7f7f\">│   │   │   │   </span><span style=\"color: #00ffff; text-decoration-color: #00ffff\">self</span>._timeout_occurred = <span style=\"color: #0000ff; text-decoration-color: #0000ff\">True</span>                                              <span style=\"color: #800000; text-decoration-color: #800000\">│</span>\n",
       "<span style=\"color: #800000; text-decoration-color: #800000\">│</span>   <span style=\"color: #7f7f7f; text-decoration-color: #7f7f7f\">721 </span><span style=\"color: #7f7f7f; text-decoration-color: #7f7f7f\">│   │   │   │   </span><span style=\"color: #0000ff; text-decoration-color: #0000ff\">raise</span>                                                                      <span style=\"color: #800000; text-decoration-color: #800000\">│</span>\n",
       "<span style=\"color: #800000; text-decoration-color: #800000\">╰──────────────────────────────────────────────────────────────────────────────────────────────────╯</span>\n",
       "<span style=\"color: #ff0000; text-decoration-color: #ff0000; font-weight: bold\">KeyboardInterrupt</span>\n",
       "</pre>\n"
      ],
      "text/plain": [
       "\u001b[31m╭─\u001b[0m\u001b[31m──────────────────────────────\u001b[0m\u001b[31m \u001b[0m\u001b[1;31mTraceback \u001b[0m\u001b[1;2;31m(most recent call last)\u001b[0m\u001b[31m \u001b[0m\u001b[31m───────────────────────────────\u001b[0m\u001b[31m─╮\u001b[0m\n",
       "\u001b[31m│\u001b[0m in \u001b[92m<module>\u001b[0m:\u001b[94m17\u001b[0m                                                                                   \u001b[31m│\u001b[0m\n",
       "\u001b[31m│\u001b[0m                                                                                                  \u001b[31m│\u001b[0m\n",
       "\u001b[31m│\u001b[0m   \u001b[2m14 \u001b[0m\u001b[2m│   \u001b[0msleep(\u001b[94m2\u001b[0m)                                                                                \u001b[31m│\u001b[0m\n",
       "\u001b[31m│\u001b[0m   \u001b[2m15 \u001b[0m\u001b[2m│   \u001b[0m\u001b[96mprint\u001b[0m(\u001b[33m\"\u001b[0m\u001b[33mreaching out to container now\u001b[0m\u001b[33m\"\u001b[0m)                                                  \u001b[31m│\u001b[0m\n",
       "\u001b[31m│\u001b[0m   \u001b[2m16 \u001b[0m\u001b[2m│   \u001b[0m\u001b[94mtry\u001b[0m:                                                                                    \u001b[31m│\u001b[0m\n",
       "\u001b[31m│\u001b[0m \u001b[31m❱ \u001b[0m17 \u001b[2m│   │   \u001b[0mresponse = requests.post(                                                           \u001b[31m│\u001b[0m\n",
       "\u001b[31m│\u001b[0m   \u001b[2m18 \u001b[0m\u001b[2m│   │   │   \u001b[0m\u001b[33mf\u001b[0m\u001b[33m\"\u001b[0m\u001b[33mhttp://localhost:3000/call\u001b[0m\u001b[33m\"\u001b[0m,                                                  \u001b[31m│\u001b[0m\n",
       "\u001b[31m│\u001b[0m   \u001b[2m19 \u001b[0m\u001b[2m│   │   │   \u001b[0mjson={                                                                          \u001b[31m│\u001b[0m\n",
       "\u001b[31m│\u001b[0m   \u001b[2m20 \u001b[0m\u001b[2m│   │   │   │   \u001b[0m\u001b[33m\"\u001b[0m\u001b[33mrepo_location\u001b[0m\u001b[33m\"\u001b[0m: \u001b[33m\"\u001b[0m\u001b[33m/app/repo\u001b[0m\u001b[33m\"\u001b[0m,                                               \u001b[31m│\u001b[0m\n",
       "\u001b[31m│\u001b[0m                                                                                                  \u001b[31m│\u001b[0m\n",
       "\u001b[31m│\u001b[0m \u001b[2;33m/home/bskesse/miniconda3/envs/code311/lib/python3.11/site-packages/requests/\u001b[0m\u001b[1;33mapi.py\u001b[0m:\u001b[94m115\u001b[0m in \u001b[92mpost\u001b[0m   \u001b[31m│\u001b[0m\n",
       "\u001b[31m│\u001b[0m                                                                                                  \u001b[31m│\u001b[0m\n",
       "\u001b[31m│\u001b[0m   \u001b[2m112 \u001b[0m\u001b[2;33m│   \u001b[0m\u001b[33m:rtype: requests.Response\u001b[0m                                                              \u001b[31m│\u001b[0m\n",
       "\u001b[31m│\u001b[0m   \u001b[2m113 \u001b[0m\u001b[2;33m│   \u001b[0m\u001b[33m\"\"\"\u001b[0m                                                                                    \u001b[31m│\u001b[0m\n",
       "\u001b[31m│\u001b[0m   \u001b[2m114 \u001b[0m\u001b[2m│   \u001b[0m                                                                                       \u001b[31m│\u001b[0m\n",
       "\u001b[31m│\u001b[0m \u001b[31m❱ \u001b[0m115 \u001b[2m│   \u001b[0m\u001b[94mreturn\u001b[0m \u001b[1;4mrequest(\u001b[0m\u001b[1;4;33m\"\u001b[0m\u001b[1;4;33mpost\u001b[0m\u001b[1;4;33m\"\u001b[0m\u001b[1;4m, url, data=data, json=json, **kwargs)\u001b[0m                            \u001b[31m│\u001b[0m\n",
       "\u001b[31m│\u001b[0m   \u001b[2m116 \u001b[0m                                                                                           \u001b[31m│\u001b[0m\n",
       "\u001b[31m│\u001b[0m   \u001b[2m117 \u001b[0m                                                                                           \u001b[31m│\u001b[0m\n",
       "\u001b[31m│\u001b[0m   \u001b[2m118 \u001b[0m\u001b[94mdef\u001b[0m \u001b[92mput\u001b[0m(url, data=\u001b[94mNone\u001b[0m, **kwargs):                                                         \u001b[31m│\u001b[0m\n",
       "\u001b[31m│\u001b[0m                                                                                                  \u001b[31m│\u001b[0m\n",
       "\u001b[31m│\u001b[0m \u001b[2;33m/home/bskesse/miniconda3/envs/code311/lib/python3.11/site-packages/requests/\u001b[0m\u001b[1;33mapi.py\u001b[0m:\u001b[94m59\u001b[0m in \u001b[92mrequest\u001b[0m \u001b[31m│\u001b[0m\n",
       "\u001b[31m│\u001b[0m                                                                                                  \u001b[31m│\u001b[0m\n",
       "\u001b[31m│\u001b[0m   \u001b[2m 56 \u001b[0m\u001b[2m│   \u001b[0m\u001b[2m# avoid leaving sockets open which can trigger a ResourceWarning in some\u001b[0m               \u001b[31m│\u001b[0m\n",
       "\u001b[31m│\u001b[0m   \u001b[2m 57 \u001b[0m\u001b[2m│   \u001b[0m\u001b[2m# cases, and look like a memory leak in others.\u001b[0m                                        \u001b[31m│\u001b[0m\n",
       "\u001b[31m│\u001b[0m   \u001b[2m 58 \u001b[0m\u001b[2m│   \u001b[0m\u001b[94mwith\u001b[0m sessions.Session() \u001b[94mas\u001b[0m session:                                                    \u001b[31m│\u001b[0m\n",
       "\u001b[31m│\u001b[0m \u001b[31m❱ \u001b[0m 59 \u001b[2m│   │   \u001b[0m\u001b[94mreturn\u001b[0m \u001b[1;4msession.request(method=method, url=url, **kwargs)\u001b[0m                           \u001b[31m│\u001b[0m\n",
       "\u001b[31m│\u001b[0m   \u001b[2m 60 \u001b[0m                                                                                           \u001b[31m│\u001b[0m\n",
       "\u001b[31m│\u001b[0m   \u001b[2m 61 \u001b[0m                                                                                           \u001b[31m│\u001b[0m\n",
       "\u001b[31m│\u001b[0m   \u001b[2m 62 \u001b[0m\u001b[94mdef\u001b[0m \u001b[92mget\u001b[0m(url, params=\u001b[94mNone\u001b[0m, **kwargs):                                                       \u001b[31m│\u001b[0m\n",
       "\u001b[31m│\u001b[0m                                                                                                  \u001b[31m│\u001b[0m\n",
       "\u001b[31m│\u001b[0m \u001b[2;33m/home/bskesse/miniconda3/envs/code311/lib/python3.11/site-packages/requests/\u001b[0m\u001b[1;33msessions.py\u001b[0m:\u001b[94m589\u001b[0m in   \u001b[31m│\u001b[0m\n",
       "\u001b[31m│\u001b[0m \u001b[92mrequest\u001b[0m                                                                                          \u001b[31m│\u001b[0m\n",
       "\u001b[31m│\u001b[0m                                                                                                  \u001b[31m│\u001b[0m\n",
       "\u001b[31m│\u001b[0m   \u001b[2m586 \u001b[0m\u001b[2m│   │   │   \u001b[0m\u001b[33m\"\u001b[0m\u001b[33mallow_redirects\u001b[0m\u001b[33m\"\u001b[0m: allow_redirects,                                            \u001b[31m│\u001b[0m\n",
       "\u001b[31m│\u001b[0m   \u001b[2m587 \u001b[0m\u001b[2m│   │   \u001b[0m}                                                                                  \u001b[31m│\u001b[0m\n",
       "\u001b[31m│\u001b[0m   \u001b[2m588 \u001b[0m\u001b[2m│   │   \u001b[0msend_kwargs.update(settings)                                                       \u001b[31m│\u001b[0m\n",
       "\u001b[31m│\u001b[0m \u001b[31m❱ \u001b[0m589 \u001b[2m│   │   \u001b[0mresp = \u001b[1;4;96mself\u001b[0m\u001b[1;4m.send(prep, **send_kwargs)\u001b[0m                                              \u001b[31m│\u001b[0m\n",
       "\u001b[31m│\u001b[0m   \u001b[2m590 \u001b[0m\u001b[2m│   │   \u001b[0m                                                                                   \u001b[31m│\u001b[0m\n",
       "\u001b[31m│\u001b[0m   \u001b[2m591 \u001b[0m\u001b[2m│   │   \u001b[0m\u001b[94mreturn\u001b[0m resp                                                                        \u001b[31m│\u001b[0m\n",
       "\u001b[31m│\u001b[0m   \u001b[2m592 \u001b[0m                                                                                           \u001b[31m│\u001b[0m\n",
       "\u001b[31m│\u001b[0m                                                                                                  \u001b[31m│\u001b[0m\n",
       "\u001b[31m│\u001b[0m \u001b[2;33m/home/bskesse/miniconda3/envs/code311/lib/python3.11/site-packages/requests/\u001b[0m\u001b[1;33msessions.py\u001b[0m:\u001b[94m703\u001b[0m in   \u001b[31m│\u001b[0m\n",
       "\u001b[31m│\u001b[0m \u001b[92msend\u001b[0m                                                                                             \u001b[31m│\u001b[0m\n",
       "\u001b[31m│\u001b[0m                                                                                                  \u001b[31m│\u001b[0m\n",
       "\u001b[31m│\u001b[0m   \u001b[2m700 \u001b[0m\u001b[2m│   │   \u001b[0mstart = preferred_clock()                                                          \u001b[31m│\u001b[0m\n",
       "\u001b[31m│\u001b[0m   \u001b[2m701 \u001b[0m\u001b[2m│   │   \u001b[0m                                                                                   \u001b[31m│\u001b[0m\n",
       "\u001b[31m│\u001b[0m   \u001b[2m702 \u001b[0m\u001b[2m│   │   \u001b[0m\u001b[2m# Send the request\u001b[0m                                                                 \u001b[31m│\u001b[0m\n",
       "\u001b[31m│\u001b[0m \u001b[31m❱ \u001b[0m703 \u001b[2m│   │   \u001b[0mr = \u001b[1;4madapter.send(request, **kwargs)\u001b[0m                                                \u001b[31m│\u001b[0m\n",
       "\u001b[31m│\u001b[0m   \u001b[2m704 \u001b[0m\u001b[2m│   │   \u001b[0m                                                                                   \u001b[31m│\u001b[0m\n",
       "\u001b[31m│\u001b[0m   \u001b[2m705 \u001b[0m\u001b[2m│   │   \u001b[0m\u001b[2m# Total elapsed time of the request (approximately)\u001b[0m                                \u001b[31m│\u001b[0m\n",
       "\u001b[31m│\u001b[0m   \u001b[2m706 \u001b[0m\u001b[2m│   │   \u001b[0melapsed = preferred_clock() - start                                                \u001b[31m│\u001b[0m\n",
       "\u001b[31m│\u001b[0m                                                                                                  \u001b[31m│\u001b[0m\n",
       "\u001b[31m│\u001b[0m \u001b[2;33m/home/bskesse/miniconda3/envs/code311/lib/python3.11/site-packages/requests/\u001b[0m\u001b[1;33madapters.py\u001b[0m:\u001b[94m667\u001b[0m in   \u001b[31m│\u001b[0m\n",
       "\u001b[31m│\u001b[0m \u001b[92msend\u001b[0m                                                                                             \u001b[31m│\u001b[0m\n",
       "\u001b[31m│\u001b[0m                                                                                                  \u001b[31m│\u001b[0m\n",
       "\u001b[31m│\u001b[0m   \u001b[2m664 \u001b[0m\u001b[2m│   │   │   \u001b[0mtimeout = TimeoutSauce(connect=timeout, read=timeout)                          \u001b[31m│\u001b[0m\n",
       "\u001b[31m│\u001b[0m   \u001b[2m665 \u001b[0m\u001b[2m│   │   \u001b[0m                                                                                   \u001b[31m│\u001b[0m\n",
       "\u001b[31m│\u001b[0m   \u001b[2m666 \u001b[0m\u001b[2m│   │   \u001b[0m\u001b[94mtry\u001b[0m:                                                                               \u001b[31m│\u001b[0m\n",
       "\u001b[31m│\u001b[0m \u001b[31m❱ \u001b[0m667 \u001b[2m│   │   │   \u001b[0mresp = conn.urlopen(                                                           \u001b[31m│\u001b[0m\n",
       "\u001b[31m│\u001b[0m   \u001b[2m668 \u001b[0m\u001b[2m│   │   │   │   \u001b[0mmethod=request.method,                                                     \u001b[31m│\u001b[0m\n",
       "\u001b[31m│\u001b[0m   \u001b[2m669 \u001b[0m\u001b[2m│   │   │   │   \u001b[0murl=url,                                                                   \u001b[31m│\u001b[0m\n",
       "\u001b[31m│\u001b[0m   \u001b[2m670 \u001b[0m\u001b[2m│   │   │   │   \u001b[0mbody=request.body,                                                         \u001b[31m│\u001b[0m\n",
       "\u001b[31m│\u001b[0m                                                                                                  \u001b[31m│\u001b[0m\n",
       "\u001b[31m│\u001b[0m \u001b[2;33m/home/bskesse/miniconda3/envs/code311/lib/python3.11/site-packages/urllib3/\u001b[0m\u001b[1;33mconnectionpool.py\u001b[0m:\u001b[94m789\u001b[0m \u001b[31m│\u001b[0m\n",
       "\u001b[31m│\u001b[0m in \u001b[92murlopen\u001b[0m                                                                                       \u001b[31m│\u001b[0m\n",
       "\u001b[31m│\u001b[0m                                                                                                  \u001b[31m│\u001b[0m\n",
       "\u001b[31m│\u001b[0m   \u001b[2m 786 \u001b[0m\u001b[2m│   │   │   \u001b[0mresponse_conn = conn \u001b[94mif\u001b[0m \u001b[95mnot\u001b[0m release_conn \u001b[94melse\u001b[0m \u001b[94mNone\u001b[0m                            \u001b[31m│\u001b[0m\n",
       "\u001b[31m│\u001b[0m   \u001b[2m 787 \u001b[0m\u001b[2m│   │   │   \u001b[0m                                                                              \u001b[31m│\u001b[0m\n",
       "\u001b[31m│\u001b[0m   \u001b[2m 788 \u001b[0m\u001b[2m│   │   │   \u001b[0m\u001b[2m# Make the request on the HTTPConnection object\u001b[0m                               \u001b[31m│\u001b[0m\n",
       "\u001b[31m│\u001b[0m \u001b[31m❱ \u001b[0m 789 \u001b[2m│   │   │   \u001b[0mresponse = \u001b[96mself\u001b[0m._make_request(                                                \u001b[31m│\u001b[0m\n",
       "\u001b[31m│\u001b[0m   \u001b[2m 790 \u001b[0m\u001b[2m│   │   │   │   \u001b[0mconn,                                                                     \u001b[31m│\u001b[0m\n",
       "\u001b[31m│\u001b[0m   \u001b[2m 791 \u001b[0m\u001b[2m│   │   │   │   \u001b[0mmethod,                                                                   \u001b[31m│\u001b[0m\n",
       "\u001b[31m│\u001b[0m   \u001b[2m 792 \u001b[0m\u001b[2m│   │   │   │   \u001b[0murl,                                                                      \u001b[31m│\u001b[0m\n",
       "\u001b[31m│\u001b[0m                                                                                                  \u001b[31m│\u001b[0m\n",
       "\u001b[31m│\u001b[0m \u001b[2;33m/home/bskesse/miniconda3/envs/code311/lib/python3.11/site-packages/urllib3/\u001b[0m\u001b[1;33mconnectionpool.py\u001b[0m:\u001b[94m536\u001b[0m \u001b[31m│\u001b[0m\n",
       "\u001b[31m│\u001b[0m in \u001b[92m_make_request\u001b[0m                                                                                 \u001b[31m│\u001b[0m\n",
       "\u001b[31m│\u001b[0m                                                                                                  \u001b[31m│\u001b[0m\n",
       "\u001b[31m│\u001b[0m   \u001b[2m 533 \u001b[0m\u001b[2m│   │   \u001b[0m                                                                                  \u001b[31m│\u001b[0m\n",
       "\u001b[31m│\u001b[0m   \u001b[2m 534 \u001b[0m\u001b[2m│   │   \u001b[0m\u001b[2m# Receive the response from the server\u001b[0m                                            \u001b[31m│\u001b[0m\n",
       "\u001b[31m│\u001b[0m   \u001b[2m 535 \u001b[0m\u001b[2m│   │   \u001b[0m\u001b[94mtry\u001b[0m:                                                                              \u001b[31m│\u001b[0m\n",
       "\u001b[31m│\u001b[0m \u001b[31m❱ \u001b[0m 536 \u001b[2m│   │   │   \u001b[0mresponse = conn.getresponse()                                                 \u001b[31m│\u001b[0m\n",
       "\u001b[31m│\u001b[0m   \u001b[2m 537 \u001b[0m\u001b[2m│   │   \u001b[0m\u001b[1;4;94mexcept\u001b[0m\u001b[1;4m (BaseSSLError, \u001b[0m\u001b[1;4;96mOSError\u001b[0m\u001b[1;4m) \u001b[0m\u001b[1;4;94mas\u001b[0m\u001b[1;4m e:\u001b[0m                                              \u001b[31m│\u001b[0m\n",
       "\u001b[31m│\u001b[0m   \u001b[2m 538 \u001b[0m\u001b[1;2;4m│   │   │   \u001b[0m\u001b[1;4;96mself\u001b[0m\u001b[1;4m._raise_timeout(err=e, url=url, timeout_value=read_timeout)\u001b[0m               \u001b[31m│\u001b[0m\n",
       "\u001b[31m│\u001b[0m   \u001b[2m 539 \u001b[0m\u001b[1;2;4m│   │   │   \u001b[0m\u001b[1;4;94mraise\u001b[0m                                                                         \u001b[31m│\u001b[0m\n",
       "\u001b[31m│\u001b[0m                                                                                                  \u001b[31m│\u001b[0m\n",
       "\u001b[31m│\u001b[0m \u001b[2;33m/home/bskesse/miniconda3/envs/code311/lib/python3.11/site-packages/urllib3/\u001b[0m\u001b[1;33mconnection.py\u001b[0m:\u001b[94m507\u001b[0m in  \u001b[31m│\u001b[0m\n",
       "\u001b[31m│\u001b[0m \u001b[92mgetresponse\u001b[0m                                                                                      \u001b[31m│\u001b[0m\n",
       "\u001b[31m│\u001b[0m                                                                                                  \u001b[31m│\u001b[0m\n",
       "\u001b[31m│\u001b[0m   \u001b[2m 504 \u001b[0m\u001b[2m│   │   \u001b[0m\u001b[94mfrom\u001b[0m \u001b[4;96m.\u001b[0m\u001b[4;96mresponse\u001b[0m \u001b[94mimport\u001b[0m HTTPResponse                                                \u001b[31m│\u001b[0m\n",
       "\u001b[31m│\u001b[0m   \u001b[2m 505 \u001b[0m\u001b[2m│   │   \u001b[0m                                                                                  \u001b[31m│\u001b[0m\n",
       "\u001b[31m│\u001b[0m   \u001b[2m 506 \u001b[0m\u001b[2m│   │   \u001b[0m\u001b[2m# Get the response from http.client.HTTPConnection\u001b[0m                                \u001b[31m│\u001b[0m\n",
       "\u001b[31m│\u001b[0m \u001b[31m❱ \u001b[0m 507 \u001b[2m│   │   \u001b[0mhttplib_response = \u001b[1;4;96msuper\u001b[0m\u001b[1;4m().getresponse()\u001b[0m                                          \u001b[31m│\u001b[0m\n",
       "\u001b[31m│\u001b[0m   \u001b[2m 508 \u001b[0m\u001b[2m│   │   \u001b[0m                                                                                  \u001b[31m│\u001b[0m\n",
       "\u001b[31m│\u001b[0m   \u001b[2m 509 \u001b[0m\u001b[2m│   │   \u001b[0m\u001b[94mtry\u001b[0m:                                                                              \u001b[31m│\u001b[0m\n",
       "\u001b[31m│\u001b[0m   \u001b[2m 510 \u001b[0m\u001b[2m│   │   │   \u001b[0massert_header_parsing(httplib_response.msg)                                   \u001b[31m│\u001b[0m\n",
       "\u001b[31m│\u001b[0m                                                                                                  \u001b[31m│\u001b[0m\n",
       "\u001b[31m│\u001b[0m \u001b[2;33m/home/bskesse/miniconda3/envs/code311/lib/python3.11/http/\u001b[0m\u001b[1;33mclient.py\u001b[0m:\u001b[94m1395\u001b[0m in \u001b[92mgetresponse\u001b[0m          \u001b[31m│\u001b[0m\n",
       "\u001b[31m│\u001b[0m                                                                                                  \u001b[31m│\u001b[0m\n",
       "\u001b[31m│\u001b[0m   \u001b[2m1392 \u001b[0m\u001b[2m│   │   \u001b[0m                                                                                  \u001b[31m│\u001b[0m\n",
       "\u001b[31m│\u001b[0m   \u001b[2m1393 \u001b[0m\u001b[2m│   │   \u001b[0m\u001b[94mtry\u001b[0m:                                                                              \u001b[31m│\u001b[0m\n",
       "\u001b[31m│\u001b[0m   \u001b[2m1394 \u001b[0m\u001b[2m│   │   │   \u001b[0m\u001b[94mtry\u001b[0m:                                                                          \u001b[31m│\u001b[0m\n",
       "\u001b[31m│\u001b[0m \u001b[31m❱ \u001b[0m1395 \u001b[2m│   │   │   │   \u001b[0mresponse.begin()                                                          \u001b[31m│\u001b[0m\n",
       "\u001b[31m│\u001b[0m   \u001b[2m1396 \u001b[0m\u001b[2m│   │   │   \u001b[0m\u001b[94mexcept\u001b[0m \u001b[96mConnectionError\u001b[0m:                                                       \u001b[31m│\u001b[0m\n",
       "\u001b[31m│\u001b[0m   \u001b[2m1397 \u001b[0m\u001b[2m│   │   │   │   \u001b[0m\u001b[96mself\u001b[0m.close()                                                              \u001b[31m│\u001b[0m\n",
       "\u001b[31m│\u001b[0m   \u001b[2m1398 \u001b[0m\u001b[2m│   │   │   │   \u001b[0m\u001b[94mraise\u001b[0m                                                                     \u001b[31m│\u001b[0m\n",
       "\u001b[31m│\u001b[0m                                                                                                  \u001b[31m│\u001b[0m\n",
       "\u001b[31m│\u001b[0m \u001b[2;33m/home/bskesse/miniconda3/envs/code311/lib/python3.11/http/\u001b[0m\u001b[1;33mclient.py\u001b[0m:\u001b[94m325\u001b[0m in \u001b[92mbegin\u001b[0m                 \u001b[31m│\u001b[0m\n",
       "\u001b[31m│\u001b[0m                                                                                                  \u001b[31m│\u001b[0m\n",
       "\u001b[31m│\u001b[0m   \u001b[2m 322 \u001b[0m\u001b[2m│   │   \u001b[0m                                                                                  \u001b[31m│\u001b[0m\n",
       "\u001b[31m│\u001b[0m   \u001b[2m 323 \u001b[0m\u001b[2m│   │   \u001b[0m\u001b[2m# read until we get a non-100 response\u001b[0m                                            \u001b[31m│\u001b[0m\n",
       "\u001b[31m│\u001b[0m   \u001b[2m 324 \u001b[0m\u001b[2m│   │   \u001b[0m\u001b[94mwhile\u001b[0m \u001b[94mTrue\u001b[0m:                                                                       \u001b[31m│\u001b[0m\n",
       "\u001b[31m│\u001b[0m \u001b[31m❱ \u001b[0m 325 \u001b[2m│   │   │   \u001b[0mversion, status, reason = \u001b[1;4;96mself\u001b[0m\u001b[1;4m._read_status()\u001b[0m                                 \u001b[31m│\u001b[0m\n",
       "\u001b[31m│\u001b[0m   \u001b[2m 326 \u001b[0m\u001b[2m│   │   │   \u001b[0m\u001b[94mif\u001b[0m status != CONTINUE:                                                        \u001b[31m│\u001b[0m\n",
       "\u001b[31m│\u001b[0m   \u001b[2m 327 \u001b[0m\u001b[2m│   │   │   │   \u001b[0m\u001b[94mbreak\u001b[0m                                                                     \u001b[31m│\u001b[0m\n",
       "\u001b[31m│\u001b[0m   \u001b[2m 328 \u001b[0m\u001b[2m│   │   │   \u001b[0m\u001b[2m# skip the header from the 100 response\u001b[0m                                       \u001b[31m│\u001b[0m\n",
       "\u001b[31m│\u001b[0m                                                                                                  \u001b[31m│\u001b[0m\n",
       "\u001b[31m│\u001b[0m \u001b[2;33m/home/bskesse/miniconda3/envs/code311/lib/python3.11/http/\u001b[0m\u001b[1;33mclient.py\u001b[0m:\u001b[94m286\u001b[0m in \u001b[92m_read_status\u001b[0m          \u001b[31m│\u001b[0m\n",
       "\u001b[31m│\u001b[0m                                                                                                  \u001b[31m│\u001b[0m\n",
       "\u001b[31m│\u001b[0m   \u001b[2m 283 \u001b[0m\u001b[2m│   │   \u001b[0m\u001b[96mself\u001b[0m.will_close = _UNKNOWN      \u001b[2m# conn will close at end of response\u001b[0m              \u001b[31m│\u001b[0m\n",
       "\u001b[31m│\u001b[0m   \u001b[2m 284 \u001b[0m\u001b[2m│   \u001b[0m                                                                                      \u001b[31m│\u001b[0m\n",
       "\u001b[31m│\u001b[0m   \u001b[2m 285 \u001b[0m\u001b[2m│   \u001b[0m\u001b[94mdef\u001b[0m \u001b[92m_read_status\u001b[0m(\u001b[96mself\u001b[0m):                                                               \u001b[31m│\u001b[0m\n",
       "\u001b[31m│\u001b[0m \u001b[31m❱ \u001b[0m 286 \u001b[2m│   │   \u001b[0mline = \u001b[96mstr\u001b[0m(\u001b[1;4;96mself\u001b[0m\u001b[1;4m.fp.readline(_MAXLINE + \u001b[0m\u001b[1;4;94m1\u001b[0m\u001b[1;4m)\u001b[0m, \u001b[33m\"\u001b[0m\u001b[33miso-8859-1\u001b[0m\u001b[33m\"\u001b[0m)                          \u001b[31m│\u001b[0m\n",
       "\u001b[31m│\u001b[0m   \u001b[2m 287 \u001b[0m\u001b[2m│   │   \u001b[0m\u001b[94mif\u001b[0m \u001b[96mlen\u001b[0m(line) > _MAXLINE:                                                          \u001b[31m│\u001b[0m\n",
       "\u001b[31m│\u001b[0m   \u001b[2m 288 \u001b[0m\u001b[2m│   │   │   \u001b[0m\u001b[94mraise\u001b[0m LineTooLong(\u001b[33m\"\u001b[0m\u001b[33mstatus line\u001b[0m\u001b[33m\"\u001b[0m)                                              \u001b[31m│\u001b[0m\n",
       "\u001b[31m│\u001b[0m   \u001b[2m 289 \u001b[0m\u001b[2m│   │   \u001b[0m\u001b[94mif\u001b[0m \u001b[96mself\u001b[0m.debuglevel > \u001b[94m0\u001b[0m:                                                           \u001b[31m│\u001b[0m\n",
       "\u001b[31m│\u001b[0m                                                                                                  \u001b[31m│\u001b[0m\n",
       "\u001b[31m│\u001b[0m \u001b[2;33m/home/bskesse/miniconda3/envs/code311/lib/python3.11/\u001b[0m\u001b[1;33msocket.py\u001b[0m:\u001b[94m718\u001b[0m in \u001b[92mreadinto\u001b[0m                   \u001b[31m│\u001b[0m\n",
       "\u001b[31m│\u001b[0m                                                                                                  \u001b[31m│\u001b[0m\n",
       "\u001b[31m│\u001b[0m   \u001b[2m715 \u001b[0m\u001b[2m│   │   │   \u001b[0m\u001b[94mraise\u001b[0m \u001b[96mOSError\u001b[0m(\u001b[33m\"\u001b[0m\u001b[33mcannot read from timed out object\u001b[0m\u001b[33m\"\u001b[0m)                             \u001b[31m│\u001b[0m\n",
       "\u001b[31m│\u001b[0m   \u001b[2m716 \u001b[0m\u001b[2m│   │   \u001b[0m\u001b[94mwhile\u001b[0m \u001b[94mTrue\u001b[0m:                                                                        \u001b[31m│\u001b[0m\n",
       "\u001b[31m│\u001b[0m   \u001b[2m717 \u001b[0m\u001b[2m│   │   │   \u001b[0m\u001b[94mtry\u001b[0m:                                                                           \u001b[31m│\u001b[0m\n",
       "\u001b[31m│\u001b[0m \u001b[31m❱ \u001b[0m718 \u001b[2m│   │   │   │   \u001b[0m\u001b[94mreturn\u001b[0m \u001b[96mself\u001b[0m._sock.recv_into(b)                                             \u001b[31m│\u001b[0m\n",
       "\u001b[31m│\u001b[0m   \u001b[2m719 \u001b[0m\u001b[2m│   │   │   \u001b[0m\u001b[94mexcept\u001b[0m timeout:                                                                \u001b[31m│\u001b[0m\n",
       "\u001b[31m│\u001b[0m   \u001b[2m720 \u001b[0m\u001b[2m│   │   │   │   \u001b[0m\u001b[96mself\u001b[0m._timeout_occurred = \u001b[94mTrue\u001b[0m                                              \u001b[31m│\u001b[0m\n",
       "\u001b[31m│\u001b[0m   \u001b[2m721 \u001b[0m\u001b[2m│   │   │   │   \u001b[0m\u001b[94mraise\u001b[0m                                                                      \u001b[31m│\u001b[0m\n",
       "\u001b[31m╰──────────────────────────────────────────────────────────────────────────────────────────────────╯\u001b[0m\n",
       "\u001b[1;91mKeyboardInterrupt\u001b[0m\n"
      ]
     },
     "metadata": {},
     "output_type": "display_data"
    }
   ],
   "source": [
    "import requests\n",
    "import traceback\n",
    "from coding.schemas import Patch\n",
    "from coding.constants import COMPETITION_ID\n",
    "from coding.schemas.tracking import TaskResult\n",
    "from time import sleep\n",
    "for task in pipeline.tasks:\n",
    "    llm_manager.init_key(tracking_info.hotkey)\n",
    "    container = run_docker_container(\n",
    "        f\"swe-logic-{str(tracking_info.hotkey)}-{COMPETITION_ID}\",\n",
    "        task.repo,\n",
    "        tracking_info.hotkey,\n",
    "    )\n",
    "    sleep(2)\n",
    "    print(\"reaching out to container now\")\n",
    "    try:\n",
    "        response = requests.post(\n",
    "            f\"http://localhost:3000/call\",\n",
    "            json={\n",
    "                \"repo_location\": \"/app/repo\",\n",
    "                \"issue_description\": task.query,\n",
    "            },\n",
    "            timeout=360,\n",
    "        )\n",
    "        print(response.json())\n",
    "        response.raise_for_status()\n",
    "        result = response.json()[\"result\"]\n",
    "        patch = Patch(**result)\n",
    "        print(\"test\")\n",
    "        print(patch)\n",
    "        score = task.score(patch, llm_manager.get_count())\n",
    "        llm_manager.reset_count()\n",
    "    except Exception as e:\n",
    "        print(f\"Request failed: {e}\")\n",
    "        print(traceback.format_exc())\n",
    "        score = 0\n",
    "\n",
    "    tracking_info.results.append(TaskResult(\n",
    "        logic=logic,\n",
    "        commit_hash=task.base_commit,\n",
    "        score=score,\n",
    "    ))\n",
    "\n",
    "tracking_info.results\n"
   ]
  }
 ],
 "metadata": {
  "kernelspec": {
   "display_name": "langcode311",
   "language": "python",
   "name": "python3"
  },
  "language_info": {
   "codemirror_mode": {
    "name": "ipython",
    "version": 3
   },
   "file_extension": ".py",
   "mimetype": "text/x-python",
   "name": "python",
   "nbconvert_exporter": "python",
   "pygments_lexer": "ipython3",
   "version": "3.11.11"
  }
 },
 "nbformat": 4,
 "nbformat_minor": 2
}
